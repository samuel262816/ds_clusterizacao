{
 "cells": [
  {
   "cell_type": "markdown",
   "id": "3b4c6aa4",
   "metadata": {
    "heading_collapsed": true
   },
   "source": [
    "# 0.0. IMPORTS"
   ]
  },
  {
   "cell_type": "markdown",
   "id": "7585d928",
   "metadata": {
    "heading_collapsed": true,
    "hidden": true
   },
   "source": [
    "## 0.1. Libraries"
   ]
  },
  {
   "cell_type": "code",
   "execution_count": 55,
   "id": "a609ed13",
   "metadata": {
    "ExecuteTime": {
     "end_time": "2023-03-06T11:03:55.078893Z",
     "start_time": "2023-03-06T11:03:55.051965Z"
    },
    "hidden": true
   },
   "outputs": [],
   "source": [
    "import pandas as pd\n",
    "import numpy as np\n",
    "import seaborn as sns\n",
    "import plotly.express as px\n",
    "import umap\n",
    "import re\n",
    "import sqlite3\n",
    "import sqlalchemy\n",
    "\n",
    "from sqlalchemy          import create_engine\n",
    "from datetime            import datetime\n",
    "from matplotlib          import pyplot as plt\n",
    "\n",
    "from sklearn             import cluster as c\n",
    "from sklearn             import metrics as mt\n",
    "from sklearn             import preprocessing as pp\n",
    "from sklearn             import decomposition as dd\n",
    "from sklearn             import ensemble as en\n",
    "from sklearn             import mixture as mx\n",
    "from sklearn.manifold    import TSNE\n",
    "from sklearn.neighbors   import NearestNeighbors\n",
    "\n",
    "from scipy.cluster       import hierarchy as hc"
   ]
  },
  {
   "cell_type": "markdown",
   "id": "64294feb",
   "metadata": {
    "hidden": true
   },
   "source": [
    "## 0.3. Load Dataset"
   ]
  },
  {
   "cell_type": "code",
   "execution_count": 4,
   "id": "6fc34974",
   "metadata": {
    "ExecuteTime": {
     "end_time": "2023-03-06T10:28:38.431209Z",
     "start_time": "2023-03-06T10:28:37.736775Z"
    },
    "hidden": true
   },
   "outputs": [],
   "source": [
    "df = pd.read_csv( '../datasets/data.csv', encoding= 'unicode_escape')"
   ]
  },
  {
   "cell_type": "markdown",
   "id": "936c5a3f",
   "metadata": {
    "heading_collapsed": true
   },
   "source": [
    "# 1.0. DATA DESCRIPTIONS"
   ]
  },
  {
   "cell_type": "code",
   "execution_count": 5,
   "id": "263e220a",
   "metadata": {
    "ExecuteTime": {
     "end_time": "2023-03-06T10:28:38.635034Z",
     "start_time": "2023-03-06T10:28:38.601162Z"
    },
    "hidden": true
   },
   "outputs": [],
   "source": [
    "df1 = df.copy()"
   ]
  },
  {
   "cell_type": "markdown",
   "id": "beb7f96d",
   "metadata": {
    "hidden": true
   },
   "source": [
    "## 1.1. Rename Columns\n"
   ]
  },
  {
   "cell_type": "code",
   "execution_count": 6,
   "id": "309c1696",
   "metadata": {
    "ExecuteTime": {
     "end_time": "2023-03-06T10:28:39.711909Z",
     "start_time": "2023-03-06T10:28:39.696950Z"
    },
    "hidden": true
   },
   "outputs": [],
   "source": [
    "new_cols = ['invoice_no', 'stock_code', 'description', 'quantity', 'invoice_date', 'unit_price', 'customer_id', 'country']\n",
    "\n",
    "df1.columns = new_cols"
   ]
  },
  {
   "cell_type": "markdown",
   "id": "2e043989",
   "metadata": {
    "hidden": true
   },
   "source": [
    "## 1.2. Data Dimension\n"
   ]
  },
  {
   "cell_type": "code",
   "execution_count": 7,
   "id": "ffcbc92a",
   "metadata": {
    "ExecuteTime": {
     "end_time": "2023-03-06T10:28:40.411576Z",
     "start_time": "2023-03-06T10:28:40.401599Z"
    },
    "hidden": true
   },
   "outputs": [
    {
     "name": "stdout",
     "output_type": "stream",
     "text": [
      "Number of columns: 8\n",
      "Number of rows: 541909\n"
     ]
    }
   ],
   "source": [
    "print( f'Number of columns: {df1.shape[1]}' )\n",
    "print( f'Number of rows: {df1.shape[0]}' )"
   ]
  },
  {
   "cell_type": "markdown",
   "id": "9311da32",
   "metadata": {
    "hidden": true
   },
   "source": [
    "## 1.3. Data Types\n"
   ]
  },
  {
   "cell_type": "code",
   "execution_count": 8,
   "id": "db2a46cd",
   "metadata": {
    "ExecuteTime": {
     "end_time": "2023-03-06T10:28:41.140174Z",
     "start_time": "2023-03-06T10:28:41.112208Z"
    },
    "hidden": true
   },
   "outputs": [
    {
     "data": {
      "text/plain": [
       "invoice_no       object\n",
       "stock_code       object\n",
       "description      object\n",
       "quantity          int64\n",
       "invoice_date     object\n",
       "unit_price      float64\n",
       "customer_id     float64\n",
       "country          object\n",
       "dtype: object"
      ]
     },
     "execution_count": 8,
     "metadata": {},
     "output_type": "execute_result"
    }
   ],
   "source": [
    "df1.dtypes"
   ]
  },
  {
   "cell_type": "markdown",
   "id": "8d139958",
   "metadata": {
    "hidden": true
   },
   "source": [
    "## 1.4. Check NA\n"
   ]
  },
  {
   "cell_type": "code",
   "execution_count": 9,
   "id": "a6f043cd",
   "metadata": {
    "ExecuteTime": {
     "end_time": "2023-03-06T10:28:42.145972Z",
     "start_time": "2023-03-06T10:28:41.817562Z"
    },
    "hidden": true
   },
   "outputs": [
    {
     "data": {
      "text/plain": [
       "invoice_no           0\n",
       "stock_code           0\n",
       "description       1454\n",
       "quantity             0\n",
       "invoice_date         0\n",
       "unit_price           0\n",
       "customer_id     135080\n",
       "country              0\n",
       "dtype: int64"
      ]
     },
     "execution_count": 9,
     "metadata": {},
     "output_type": "execute_result"
    }
   ],
   "source": [
    "df1.isna().sum()"
   ]
  },
  {
   "cell_type": "markdown",
   "id": "37361b27",
   "metadata": {
    "hidden": true
   },
   "source": [
    "## 1.5. Replace NA\n"
   ]
  },
  {
   "cell_type": "code",
   "execution_count": 10,
   "id": "7e90d198",
   "metadata": {
    "ExecuteTime": {
     "end_time": "2023-03-06T10:28:43.221401Z",
     "start_time": "2023-03-06T10:28:43.160566Z"
    },
    "hidden": true
   },
   "outputs": [],
   "source": [
    "df_missing = df1.loc[ df1['customer_id'].isna() , :]\n",
    "df_not_missing = df1.loc[ ~df1['customer_id'].isna() , :]"
   ]
  },
  {
   "cell_type": "code",
   "execution_count": 11,
   "id": "d0f20813",
   "metadata": {
    "ExecuteTime": {
     "end_time": "2023-03-06T10:28:43.841473Z",
     "start_time": "2023-03-06T10:28:43.512444Z"
    },
    "hidden": true
   },
   "outputs": [
    {
     "data": {
      "text/html": [
       "<div>\n",
       "<style scoped>\n",
       "    .dataframe tbody tr th:only-of-type {\n",
       "        vertical-align: middle;\n",
       "    }\n",
       "\n",
       "    .dataframe tbody tr th {\n",
       "        vertical-align: top;\n",
       "    }\n",
       "\n",
       "    .dataframe thead th {\n",
       "        text-align: right;\n",
       "    }\n",
       "</style>\n",
       "<table border=\"1\" class=\"dataframe\">\n",
       "  <thead>\n",
       "    <tr style=\"text-align: right;\">\n",
       "      <th></th>\n",
       "      <th>invoice_no</th>\n",
       "      <th>stock_code</th>\n",
       "      <th>description</th>\n",
       "      <th>quantity</th>\n",
       "      <th>invoice_date</th>\n",
       "      <th>unit_price</th>\n",
       "      <th>customer_id</th>\n",
       "      <th>country</th>\n",
       "    </tr>\n",
       "  </thead>\n",
       "  <tbody>\n",
       "    <tr>\n",
       "      <th>0</th>\n",
       "      <td>536365</td>\n",
       "      <td>85123A</td>\n",
       "      <td>WHITE HANGING HEART T-LIGHT HOLDER</td>\n",
       "      <td>6</td>\n",
       "      <td>12/1/2010 8:26</td>\n",
       "      <td>2.55</td>\n",
       "      <td>17850.0</td>\n",
       "      <td>United Kingdom</td>\n",
       "    </tr>\n",
       "    <tr>\n",
       "      <th>1</th>\n",
       "      <td>536365</td>\n",
       "      <td>71053</td>\n",
       "      <td>WHITE METAL LANTERN</td>\n",
       "      <td>6</td>\n",
       "      <td>12/1/2010 8:26</td>\n",
       "      <td>3.39</td>\n",
       "      <td>17850.0</td>\n",
       "      <td>United Kingdom</td>\n",
       "    </tr>\n",
       "    <tr>\n",
       "      <th>2</th>\n",
       "      <td>536365</td>\n",
       "      <td>84406B</td>\n",
       "      <td>CREAM CUPID HEARTS COAT HANGER</td>\n",
       "      <td>8</td>\n",
       "      <td>12/1/2010 8:26</td>\n",
       "      <td>2.75</td>\n",
       "      <td>17850.0</td>\n",
       "      <td>United Kingdom</td>\n",
       "    </tr>\n",
       "    <tr>\n",
       "      <th>3</th>\n",
       "      <td>536365</td>\n",
       "      <td>84029G</td>\n",
       "      <td>KNITTED UNION FLAG HOT WATER BOTTLE</td>\n",
       "      <td>6</td>\n",
       "      <td>12/1/2010 8:26</td>\n",
       "      <td>3.39</td>\n",
       "      <td>17850.0</td>\n",
       "      <td>United Kingdom</td>\n",
       "    </tr>\n",
       "    <tr>\n",
       "      <th>4</th>\n",
       "      <td>536365</td>\n",
       "      <td>84029E</td>\n",
       "      <td>RED WOOLLY HOTTIE WHITE HEART.</td>\n",
       "      <td>6</td>\n",
       "      <td>12/1/2010 8:26</td>\n",
       "      <td>3.39</td>\n",
       "      <td>17850.0</td>\n",
       "      <td>United Kingdom</td>\n",
       "    </tr>\n",
       "  </tbody>\n",
       "</table>\n",
       "</div>"
      ],
      "text/plain": [
       "  invoice_no stock_code                          description  quantity  \\\n",
       "0     536365     85123A   WHITE HANGING HEART T-LIGHT HOLDER         6   \n",
       "1     536365      71053                  WHITE METAL LANTERN         6   \n",
       "2     536365     84406B       CREAM CUPID HEARTS COAT HANGER         8   \n",
       "3     536365     84029G  KNITTED UNION FLAG HOT WATER BOTTLE         6   \n",
       "4     536365     84029E       RED WOOLLY HOTTIE WHITE HEART.         6   \n",
       "\n",
       "     invoice_date  unit_price  customer_id         country  \n",
       "0  12/1/2010 8:26        2.55      17850.0  United Kingdom  \n",
       "1  12/1/2010 8:26        3.39      17850.0  United Kingdom  \n",
       "2  12/1/2010 8:26        2.75      17850.0  United Kingdom  \n",
       "3  12/1/2010 8:26        3.39      17850.0  United Kingdom  \n",
       "4  12/1/2010 8:26        3.39      17850.0  United Kingdom  "
      ]
     },
     "execution_count": 11,
     "metadata": {},
     "output_type": "execute_result"
    }
   ],
   "source": [
    "# pegar todos invoice_no unicos do df_missing \n",
    "df_backup = pd.DataFrame( df_missing['invoice_no'] ).drop_duplicates()\n",
    "\n",
    "# atribuir para o customer_id um numero acima do maximo existente no dataset completo (18287)\n",
    "df_backup['customer_id_new'] = np.arange( 19000, len( df_backup) + 19000, 1)\n",
    "\n",
    "# juntar df_backup com o dataset original\n",
    "df1 = pd.merge( df1, df_backup, how='left', on='invoice_no' )\n",
    "\n",
    "# coalesce\n",
    "df1['customer_id'] = df1['customer_id'].combine_first( df1['customer_id_new'] )\n",
    "\n",
    "# excluir coluna extra\n",
    "df1 = df1.drop( columns = ['customer_id_new'] )\n",
    "\n",
    "df1.head()"
   ]
  },
  {
   "cell_type": "code",
   "execution_count": 12,
   "id": "8c38d97f",
   "metadata": {
    "ExecuteTime": {
     "end_time": "2023-03-06T10:28:44.797613Z",
     "start_time": "2023-03-06T10:28:44.473754Z"
    },
    "hidden": true
   },
   "outputs": [
    {
     "data": {
      "text/plain": [
       "invoice_no         0\n",
       "stock_code         0\n",
       "description     1454\n",
       "quantity           0\n",
       "invoice_date       0\n",
       "unit_price         0\n",
       "customer_id        0\n",
       "country            0\n",
       "dtype: int64"
      ]
     },
     "execution_count": 12,
     "metadata": {},
     "output_type": "execute_result"
    }
   ],
   "source": [
    "df1.isna().sum()"
   ]
  },
  {
   "cell_type": "markdown",
   "id": "cf6ba550",
   "metadata": {
    "hidden": true
   },
   "source": [
    "## 1.6. Change Data Types\n"
   ]
  },
  {
   "cell_type": "code",
   "execution_count": 13,
   "id": "329d082e",
   "metadata": {
    "ExecuteTime": {
     "end_time": "2023-03-06T10:28:46.352627Z",
     "start_time": "2023-03-06T10:28:45.577355Z"
    },
    "hidden": true
   },
   "outputs": [
    {
     "data": {
      "text/html": [
       "<div>\n",
       "<style scoped>\n",
       "    .dataframe tbody tr th:only-of-type {\n",
       "        vertical-align: middle;\n",
       "    }\n",
       "\n",
       "    .dataframe tbody tr th {\n",
       "        vertical-align: top;\n",
       "    }\n",
       "\n",
       "    .dataframe thead th {\n",
       "        text-align: right;\n",
       "    }\n",
       "</style>\n",
       "<table border=\"1\" class=\"dataframe\">\n",
       "  <thead>\n",
       "    <tr style=\"text-align: right;\">\n",
       "      <th></th>\n",
       "      <th>invoice_no</th>\n",
       "      <th>stock_code</th>\n",
       "      <th>description</th>\n",
       "      <th>quantity</th>\n",
       "      <th>invoice_date</th>\n",
       "      <th>unit_price</th>\n",
       "      <th>customer_id</th>\n",
       "      <th>country</th>\n",
       "    </tr>\n",
       "  </thead>\n",
       "  <tbody>\n",
       "    <tr>\n",
       "      <th>0</th>\n",
       "      <td>536365</td>\n",
       "      <td>85123A</td>\n",
       "      <td>WHITE HANGING HEART T-LIGHT HOLDER</td>\n",
       "      <td>6</td>\n",
       "      <td>2010-12-01</td>\n",
       "      <td>2.55</td>\n",
       "      <td>17850.0</td>\n",
       "      <td>United Kingdom</td>\n",
       "    </tr>\n",
       "    <tr>\n",
       "      <th>1</th>\n",
       "      <td>536365</td>\n",
       "      <td>71053</td>\n",
       "      <td>WHITE METAL LANTERN</td>\n",
       "      <td>6</td>\n",
       "      <td>2010-12-01</td>\n",
       "      <td>3.39</td>\n",
       "      <td>17850.0</td>\n",
       "      <td>United Kingdom</td>\n",
       "    </tr>\n",
       "    <tr>\n",
       "      <th>2</th>\n",
       "      <td>536365</td>\n",
       "      <td>84406B</td>\n",
       "      <td>CREAM CUPID HEARTS COAT HANGER</td>\n",
       "      <td>8</td>\n",
       "      <td>2010-12-01</td>\n",
       "      <td>2.75</td>\n",
       "      <td>17850.0</td>\n",
       "      <td>United Kingdom</td>\n",
       "    </tr>\n",
       "    <tr>\n",
       "      <th>3</th>\n",
       "      <td>536365</td>\n",
       "      <td>84029G</td>\n",
       "      <td>KNITTED UNION FLAG HOT WATER BOTTLE</td>\n",
       "      <td>6</td>\n",
       "      <td>2010-12-01</td>\n",
       "      <td>3.39</td>\n",
       "      <td>17850.0</td>\n",
       "      <td>United Kingdom</td>\n",
       "    </tr>\n",
       "    <tr>\n",
       "      <th>4</th>\n",
       "      <td>536365</td>\n",
       "      <td>84029E</td>\n",
       "      <td>RED WOOLLY HOTTIE WHITE HEART.</td>\n",
       "      <td>6</td>\n",
       "      <td>2010-12-01</td>\n",
       "      <td>3.39</td>\n",
       "      <td>17850.0</td>\n",
       "      <td>United Kingdom</td>\n",
       "    </tr>\n",
       "  </tbody>\n",
       "</table>\n",
       "</div>"
      ],
      "text/plain": [
       "  invoice_no stock_code                          description  quantity  \\\n",
       "0     536365     85123A   WHITE HANGING HEART T-LIGHT HOLDER         6   \n",
       "1     536365      71053                  WHITE METAL LANTERN         6   \n",
       "2     536365     84406B       CREAM CUPID HEARTS COAT HANGER         8   \n",
       "3     536365     84029G  KNITTED UNION FLAG HOT WATER BOTTLE         6   \n",
       "4     536365     84029E       RED WOOLLY HOTTIE WHITE HEART.         6   \n",
       "\n",
       "  invoice_date  unit_price  customer_id         country  \n",
       "0   2010-12-01        2.55      17850.0  United Kingdom  \n",
       "1   2010-12-01        3.39      17850.0  United Kingdom  \n",
       "2   2010-12-01        2.75      17850.0  United Kingdom  \n",
       "3   2010-12-01        3.39      17850.0  United Kingdom  \n",
       "4   2010-12-01        3.39      17850.0  United Kingdom  "
      ]
     },
     "execution_count": 13,
     "metadata": {},
     "output_type": "execute_result"
    }
   ],
   "source": [
    "df1['invoice_date'] = df1['invoice_date'].apply( lambda x: re.search('(\\d.+) ', x).group(1) )\n",
    "\n",
    "df1['invoice_date'] = pd.to_datetime( df1['invoice_date'] )\n",
    "\n",
    "df1.head()"
   ]
  },
  {
   "cell_type": "code",
   "execution_count": 14,
   "id": "a4738300",
   "metadata": {
    "ExecuteTime": {
     "end_time": "2023-03-06T10:28:46.384607Z",
     "start_time": "2023-03-06T10:28:46.358610Z"
    },
    "hidden": true
   },
   "outputs": [],
   "source": [
    "df1['customer_id'] = df1['customer_id'].astype( 'int64' )"
   ]
  },
  {
   "cell_type": "code",
   "execution_count": 15,
   "id": "d892eb07",
   "metadata": {
    "ExecuteTime": {
     "end_time": "2023-03-06T10:28:46.606281Z",
     "start_time": "2023-03-06T10:28:46.585334Z"
    },
    "hidden": true,
    "scrolled": true
   },
   "outputs": [
    {
     "data": {
      "text/plain": [
       "invoice_no              object\n",
       "stock_code              object\n",
       "description             object\n",
       "quantity                 int64\n",
       "invoice_date    datetime64[ns]\n",
       "unit_price             float64\n",
       "customer_id              int64\n",
       "country                 object\n",
       "dtype: object"
      ]
     },
     "execution_count": 15,
     "metadata": {},
     "output_type": "execute_result"
    }
   ],
   "source": [
    "df1.dtypes"
   ]
  },
  {
   "cell_type": "markdown",
   "id": "fb561145",
   "metadata": {
    "hidden": true
   },
   "source": [
    "## 1.7. Descriptive Statistics\n"
   ]
  },
  {
   "cell_type": "code",
   "execution_count": 16,
   "id": "ed133efa",
   "metadata": {
    "ExecuteTime": {
     "end_time": "2023-03-06T10:28:47.692307Z",
     "start_time": "2023-03-06T10:28:47.624030Z"
    },
    "hidden": true
   },
   "outputs": [],
   "source": [
    "num_attributes = df1.select_dtypes( include= ['int64', 'float64'])\n",
    "cat_attributes = df1.select_dtypes( exclude= ['int64', 'float64', 'datetime64[ns]'] )"
   ]
  },
  {
   "cell_type": "markdown",
   "id": "34e7c143",
   "metadata": {
    "hidden": true
   },
   "source": [
    "### 1.7.1. Numerical Attributes\n"
   ]
  },
  {
   "cell_type": "code",
   "execution_count": 17,
   "id": "3d961c25",
   "metadata": {
    "ExecuteTime": {
     "end_time": "2023-03-06T10:28:48.669676Z",
     "start_time": "2023-03-06T10:28:48.537031Z"
    },
    "hidden": true
   },
   "outputs": [
    {
     "data": {
      "text/html": [
       "<div>\n",
       "<style scoped>\n",
       "    .dataframe tbody tr th:only-of-type {\n",
       "        vertical-align: middle;\n",
       "    }\n",
       "\n",
       "    .dataframe tbody tr th {\n",
       "        vertical-align: top;\n",
       "    }\n",
       "\n",
       "    .dataframe thead th {\n",
       "        text-align: right;\n",
       "    }\n",
       "</style>\n",
       "<table border=\"1\" class=\"dataframe\">\n",
       "  <thead>\n",
       "    <tr style=\"text-align: right;\">\n",
       "      <th></th>\n",
       "      <th>attributes</th>\n",
       "      <th>min</th>\n",
       "      <th>max</th>\n",
       "      <th>range</th>\n",
       "      <th>mean</th>\n",
       "      <th>median</th>\n",
       "      <th>std</th>\n",
       "      <th>skew</th>\n",
       "      <th>kurtosis</th>\n",
       "    </tr>\n",
       "  </thead>\n",
       "  <tbody>\n",
       "    <tr>\n",
       "      <th>0</th>\n",
       "      <td>quantity</td>\n",
       "      <td>-80995.00</td>\n",
       "      <td>80995.0</td>\n",
       "      <td>161990.00</td>\n",
       "      <td>9.552250</td>\n",
       "      <td>3.00</td>\n",
       "      <td>218.080957</td>\n",
       "      <td>-0.264076</td>\n",
       "      <td>119769.160031</td>\n",
       "    </tr>\n",
       "    <tr>\n",
       "      <th>1</th>\n",
       "      <td>unit_price</td>\n",
       "      <td>-11062.06</td>\n",
       "      <td>38970.0</td>\n",
       "      <td>50032.06</td>\n",
       "      <td>4.611114</td>\n",
       "      <td>2.08</td>\n",
       "      <td>96.759764</td>\n",
       "      <td>186.506972</td>\n",
       "      <td>59005.719097</td>\n",
       "    </tr>\n",
       "    <tr>\n",
       "      <th>2</th>\n",
       "      <td>customer_id</td>\n",
       "      <td>12346.00</td>\n",
       "      <td>22709.0</td>\n",
       "      <td>10363.00</td>\n",
       "      <td>16688.840453</td>\n",
       "      <td>16249.00</td>\n",
       "      <td>2911.408666</td>\n",
       "      <td>0.487449</td>\n",
       "      <td>-0.804287</td>\n",
       "    </tr>\n",
       "  </tbody>\n",
       "</table>\n",
       "</div>"
      ],
      "text/plain": [
       "    attributes       min      max      range          mean    median  \\\n",
       "0     quantity -80995.00  80995.0  161990.00      9.552250      3.00   \n",
       "1   unit_price -11062.06  38970.0   50032.06      4.611114      2.08   \n",
       "2  customer_id  12346.00  22709.0   10363.00  16688.840453  16249.00   \n",
       "\n",
       "           std        skew       kurtosis  \n",
       "0   218.080957   -0.264076  119769.160031  \n",
       "1    96.759764  186.506972   59005.719097  \n",
       "2  2911.408666    0.487449      -0.804287  "
      ]
     },
     "execution_count": 17,
     "metadata": {},
     "output_type": "execute_result"
    }
   ],
   "source": [
    "# central tendency - mean, median\n",
    "ct1 = pd.DataFrame( num_attributes.mean() ).T\n",
    "ct2 = pd.DataFrame( num_attributes.median() ).T\n",
    "\n",
    "# dispersion - min, max, range, std, skew, kurtosis\n",
    "d1 = pd.DataFrame( num_attributes.apply( np.min ) ).T\n",
    "d2 = pd.DataFrame( num_attributes.apply( np.max ) ).T\n",
    "d3 = pd.DataFrame( num_attributes.apply( lambda x: x.max() - x.min() ) ).T\n",
    "d4 = pd.DataFrame( num_attributes.apply( np.std ) ).T\n",
    "d5 = pd.DataFrame( num_attributes.apply( lambda x: x.skew() ) ).T\n",
    "d6 = pd.DataFrame( num_attributes.apply( lambda x: x.kurtosis() ) ).T\n",
    "\n",
    "# concatenate\n",
    "m = pd.concat( [d1, d2, d3, ct1, ct2, d4, d5, d6] ).T.reset_index()\n",
    "m.columns = ['attributes', 'min', 'max', 'range', 'mean', 'median', 'std', 'skew', 'kurtosis'] \n",
    "m"
   ]
  },
  {
   "cell_type": "markdown",
   "id": "4f6e9b64",
   "metadata": {
    "hidden": true
   },
   "source": [
    "### 1.7.2. Categorical Attributes\n"
   ]
  },
  {
   "cell_type": "markdown",
   "id": "a30280e3",
   "metadata": {
    "hidden": true
   },
   "source": [
    "#### Invoices"
   ]
  },
  {
   "cell_type": "code",
   "execution_count": 18,
   "id": "44336cc8",
   "metadata": {
    "ExecuteTime": {
     "end_time": "2023-03-06T10:28:51.023556Z",
     "start_time": "2023-03-06T10:28:50.360330Z"
    },
    "hidden": true
   },
   "outputs": [
    {
     "data": {
      "text/plain": [
       "3839"
      ]
     },
     "execution_count": 18,
     "metadata": {},
     "output_type": "execute_result"
    }
   ],
   "source": [
    "# invoice_no with strings\n",
    "len( cat_attributes.loc[ cat_attributes['invoice_no'].apply( lambda x: bool( re.search( '[^\\d]+', x) ) ), 'invoice_no'].drop_duplicates() ) "
   ]
  },
  {
   "cell_type": "markdown",
   "id": "2c459c16",
   "metadata": {
    "hidden": true
   },
   "source": [
    "#### Stock Code"
   ]
  },
  {
   "cell_type": "code",
   "execution_count": 19,
   "id": "699196af",
   "metadata": {
    "ExecuteTime": {
     "end_time": "2023-03-06T10:28:52.196709Z",
     "start_time": "2023-03-06T10:28:51.504750Z"
    },
    "hidden": true
   },
   "outputs": [
    {
     "data": {
      "text/plain": [
       "array(['POST', 'D', 'DOT', 'M', 'S', 'AMAZONFEE', 'm', 'DCGSSBOY',\n",
       "       'DCGSSGIRL', 'PADS', 'B', 'CRUK'], dtype=object)"
      ]
     },
     "execution_count": 19,
     "metadata": {},
     "output_type": "execute_result"
    }
   ],
   "source": [
    "# stock_code with only### Invoices strings\n",
    "cat_attributes.loc[ cat_attributes['stock_code'].apply( lambda x: bool( re.search( '^[a-zA-Z]+$', x ) ) ), 'stock_code' ].unique()\n",
    "\n",
    "# Action:\n",
    "# Remove all lines with ['POST', 'D', 'DOT', 'M', 'S', 'AMAZONFEE', 'm', 'DCGSSBOY', 'DCGSSGIRL', 'PADS', 'B', 'CRUK']"
   ]
  },
  {
   "cell_type": "markdown",
   "id": "413747a6",
   "metadata": {
    "heading_collapsed": true
   },
   "source": [
    "# 2.0. FEATURE FILTERING"
   ]
  },
  {
   "cell_type": "code",
   "execution_count": 22,
   "id": "40e97eed",
   "metadata": {
    "ExecuteTime": {
     "end_time": "2023-03-06T10:29:17.098034Z",
     "start_time": "2023-03-06T10:29:17.064124Z"
    },
    "hidden": true
   },
   "outputs": [],
   "source": [
    "df2 = df1.copy()"
   ]
  },
  {
   "cell_type": "code",
   "execution_count": 23,
   "id": "ab24994a",
   "metadata": {
    "ExecuteTime": {
     "end_time": "2023-03-06T10:29:17.780857Z",
     "start_time": "2023-03-06T10:29:17.488395Z"
    },
    "hidden": true
   },
   "outputs": [],
   "source": [
    "# === numerical attributes ===\n",
    "df2 = df2.loc[ df2['unit_price'] >= 0.04, :]\n",
    "\n",
    "# === Categorical attributes ===\n",
    "df2[ ~df2['stock_code'].isin( ['POST', 'D', 'DOT', 'M', 'S', 'AMAZONFEE', 'm', 'DCGSSBOY', 'DCGSSGIRL', 'PADS', 'B', 'CRUK'] )]\n",
    "\n",
    "# description\n",
    "df2 = df2.drop( columns= 'description', axis=1 )\n",
    "\n",
    "# map\n",
    "df2 = df2[ ~df2['country'].isin( ['European Community', 'Unspecified'] ) ]\n",
    "\n",
    "# bad users\n",
    "df2 = df2[ ~df2['customer_id'].isin( [16446] ) ]\n",
    "\n",
    "# quantity\n",
    "df2_returns = df2.loc[ df2['quantity'] < 0, : ]\n",
    "df2_purchase = df2.loc[ df2['quantity'] >= 0, : ]"
   ]
  },
  {
   "cell_type": "markdown",
   "id": "dbceede0",
   "metadata": {
    "heading_collapsed": true
   },
   "source": [
    "# 3.0. FEATURE ENGINNERING"
   ]
  },
  {
   "cell_type": "code",
   "execution_count": 24,
   "id": "0766feee",
   "metadata": {
    "ExecuteTime": {
     "end_time": "2023-03-06T10:29:18.555709Z",
     "start_time": "2023-03-06T10:29:18.504845Z"
    },
    "hidden": true
   },
   "outputs": [],
   "source": [
    "df3 = df2.copy()\n",
    "df3_purchase = df2_purchase.copy()\n",
    "df3_returns = df2_returns.copy()"
   ]
  },
  {
   "cell_type": "code",
   "execution_count": 25,
   "id": "806e5153",
   "metadata": {
    "ExecuteTime": {
     "end_time": "2023-03-06T10:29:18.824839Z",
     "start_time": "2023-03-06T10:29:18.769305Z"
    },
    "hidden": true
   },
   "outputs": [],
   "source": [
    "# data reference\n",
    "df_ref = df3.drop( ['invoice_no', 'stock_code', 'quantity', 'invoice_date',\n",
    "       'unit_price', 'country'] , axis=1).drop_duplicates( ignore_index = True )"
   ]
  },
  {
   "cell_type": "markdown",
   "id": "6e36aa85",
   "metadata": {
    "hidden": true
   },
   "source": [
    "## 3.1. Gross Revenue"
   ]
  },
  {
   "cell_type": "code",
   "execution_count": 26,
   "id": "a19c3005",
   "metadata": {
    "ExecuteTime": {
     "end_time": "2023-03-06T10:29:23.333517Z",
     "start_time": "2023-03-06T10:29:23.248701Z"
    },
    "hidden": true
   },
   "outputs": [
    {
     "data": {
      "text/plain": [
       "customer_id        0\n",
       "gross_revenue    215\n",
       "dtype: int64"
      ]
     },
     "execution_count": 26,
     "metadata": {},
     "output_type": "execute_result"
    }
   ],
   "source": [
    "# gross revenue ( faturamento ) = quantity * price\n",
    "df3_purchase['gross_revenue'] = df3_purchase['quantity'] * df3_purchase['unit_price']\n",
    "\n",
    "# monetary\n",
    "df_monetary = df3_purchase[['customer_id', 'gross_revenue']].groupby('customer_id').sum().reset_index()\n",
    "df_ref = pd.merge( df_ref, df_monetary, how = 'left', on = 'customer_id')\n",
    "df_ref.isna().sum()"
   ]
  },
  {
   "cell_type": "markdown",
   "id": "15ba60de",
   "metadata": {
    "hidden": true
   },
   "source": [
    "## 3.2. Recency"
   ]
  },
  {
   "cell_type": "code",
   "execution_count": 27,
   "id": "c99a9037",
   "metadata": {
    "ExecuteTime": {
     "end_time": "2023-03-06T10:29:25.135565Z",
     "start_time": "2023-03-06T10:29:25.072482Z"
    },
    "hidden": true
   },
   "outputs": [
    {
     "data": {
      "text/plain": [
       "customer_id        0\n",
       "gross_revenue    215\n",
       "recency_days     215\n",
       "dtype: int64"
      ]
     },
     "execution_count": 27,
     "metadata": {},
     "output_type": "execute_result"
    }
   ],
   "source": [
    "# recency - Last day purchase\n",
    "df_recency = df3_purchase[['customer_id', 'invoice_date']].groupby('customer_id').max().reset_index()\n",
    "df_recency['recency_days'] = ( df3['invoice_date'].max() - df_recency['invoice_date'] ).dt.days\n",
    "df_recency = df_recency[['customer_id', 'recency_days']].copy()\n",
    "df_ref = pd.merge( df_ref, df_recency, how = 'left', on='customer_id')\n",
    "df_ref.isna().sum()"
   ]
  },
  {
   "cell_type": "markdown",
   "id": "a0bcb6a2",
   "metadata": {
    "hidden": true
   },
   "source": [
    "## 3.3. Quantity of Invoices"
   ]
  },
  {
   "cell_type": "code",
   "execution_count": 28,
   "id": "860f6594",
   "metadata": {
    "ExecuteTime": {
     "end_time": "2023-03-03T19:24:23.039982Z",
     "start_time": "2023-03-03T19:24:23.033001Z"
    },
    "hidden": true
   },
   "outputs": [],
   "source": [
    "# # quantity\n",
    "# df_quant = ( df3_purchase[['customer_id', 'invoice_no']].drop_duplicates().groupby('customer_id').count().reset_index()\n",
    "#                                                                                                  .rename( columns= {'invoice_no': 'qty_invoices'} ) )\n",
    "# df_ref = pd.merge( df_ref, df_quant, how= 'left', on = 'customer_id' )\n",
    "# df_ref.isna().sum()"
   ]
  },
  {
   "cell_type": "markdown",
   "id": "56cd1bc6",
   "metadata": {
    "hidden": true
   },
   "source": [
    "## 3.4. Average Ticket"
   ]
  },
  {
   "cell_type": "code",
   "execution_count": 29,
   "id": "fd4263af",
   "metadata": {
    "ExecuteTime": {
     "end_time": "2023-03-03T19:24:23.070793Z",
     "start_time": "2023-03-03T19:24:23.044970Z"
    },
    "hidden": true
   },
   "outputs": [],
   "source": [
    "# # Average Ticket\n",
    "# df_avg_ticket = df3_purchase[['customer_id', 'gross_revenue']].groupby('customer_id').mean().reset_index().rename( columns= {'gross_revenue': 'avg_ticket'})\n",
    "# df_ref = pd.merge( df_ref, df_avg_ticket, how = 'left', on='customer_id')\n",
    "# df_ref.isna().sum()"
   ]
  },
  {
   "cell_type": "markdown",
   "id": "25e1b10d",
   "metadata": {
    "hidden": true
   },
   "source": [
    "## 3.5. Average Recency Days"
   ]
  },
  {
   "cell_type": "code",
   "execution_count": 30,
   "id": "9b930686",
   "metadata": {
    "ExecuteTime": {
     "end_time": "2023-03-03T19:24:23.101935Z",
     "start_time": "2023-03-03T19:24:23.080739Z"
    },
    "hidden": true
   },
   "outputs": [],
   "source": [
    "# # average recency days\n",
    "# df_aux = df3[['customer_id', 'invoice_date']].drop_duplicates().sort_values( ['customer_id', 'invoice_date'], ascending= [False, False] )\n",
    "# df_aux['next_customer_id'] = df_aux['customer_id'].shift()\n",
    "# df_aux['next_date'] = df_aux['invoice_date'].shift()\n",
    "\n",
    "# df_aux['avg_recency_days'] = ( df_aux.apply( lambda x: (x['next_date'] - x['invoice_date']).days if \n",
    "#                                                         x['customer_id'] == x['next_customer_id'] else np.nan, axis=1 ) )\n",
    "\n",
    "# df_aux = df_aux.drop( ['invoice_date', 'next_customer_id', 'next_date'], axis=1).dropna()\n",
    "\n",
    "# # average recency days\n",
    "# df_avg_recency_days = df_aux.groupby('customer_id').mean().reset_index()\n",
    "\n",
    "# # merge\n",
    "# df_ref = pd.merge( df_ref, df_avg_recency_days, how='left', on='customer_id')\n",
    "\n",
    "# df_ref.isna().sum()"
   ]
  },
  {
   "cell_type": "markdown",
   "id": "ce65bd98",
   "metadata": {
    "hidden": true
   },
   "source": [
    "## 3.6. Frequency Purchase"
   ]
  },
  {
   "cell_type": "code",
   "execution_count": 28,
   "id": "316d45f7",
   "metadata": {
    "ExecuteTime": {
     "end_time": "2023-03-06T10:29:33.795085Z",
     "start_time": "2023-03-06T10:29:32.592986Z"
    },
    "hidden": true
   },
   "outputs": [
    {
     "data": {
      "text/plain": [
       "customer_id        0\n",
       "gross_revenue    215\n",
       "recency_days     215\n",
       "frequency        215\n",
       "dtype: int64"
      ]
     },
     "execution_count": 28,
     "metadata": {},
     "output_type": "execute_result"
    }
   ],
   "source": [
    "df_aux = ( df2_purchase[['customer_id', 'invoice_no', 'invoice_date']].drop_duplicates().groupby('customer_id')\n",
    "                                                                      .agg( max_ = ('invoice_date', 'max'),\n",
    "                                                                           min_ = ('invoice_date', 'min'),\n",
    "                                                                           days_ = ('invoice_date', lambda x: ( ( x.max() - x.min() ).days ) +1 ),\n",
    "                                                                           buy_ = ('invoice_no', 'count') ).reset_index() )\n",
    "\n",
    "# Frequency\n",
    "df_aux['frequency'] = df_aux[['buy_', 'days_']].apply( lambda x: x['buy_'] / x['days_'] if x['days_'] != 0 else 0, axis=1 )\n",
    "\n",
    "# Merge\n",
    "df_ref = pd.merge( df_ref, df_aux[['customer_id', 'frequency']], how='left', on='customer_id' )\n",
    "df_ref.isna().sum()"
   ]
  },
  {
   "cell_type": "markdown",
   "id": "fc830093",
   "metadata": {
    "hidden": true
   },
   "source": [
    "## 3.7. Number of Returns"
   ]
  },
  {
   "cell_type": "code",
   "execution_count": 29,
   "id": "86d8563f",
   "metadata": {
    "ExecuteTime": {
     "end_time": "2023-03-06T10:29:35.756093Z",
     "start_time": "2023-03-06T10:29:35.729123Z"
    },
    "hidden": true
   },
   "outputs": [
    {
     "data": {
      "text/plain": [
       "customer_id        0\n",
       "gross_revenue    215\n",
       "recency_days     215\n",
       "frequency        215\n",
       "qty_returns        0\n",
       "dtype: int64"
      ]
     },
     "execution_count": 29,
     "metadata": {},
     "output_type": "execute_result"
    }
   ],
   "source": [
    "df_returns = df3_returns[['customer_id', 'quantity']].groupby('customer_id').sum().reset_index().rename( columns = {'quantity': 'qty_returns'})\n",
    "\n",
    "df_returns['qty_returns'] = df_returns['qty_returns'] * (-1)\n",
    "\n",
    "df_ref = pd.merge( df_ref, df_returns, how= 'left', on='customer_id')\n",
    "df_ref.loc[ df_ref['qty_returns'].isna() , 'qty_returns'] = 0\n",
    "\n",
    "df_ref.isna().sum()"
   ]
  },
  {
   "cell_type": "markdown",
   "id": "b524718f",
   "metadata": {
    "hidden": true
   },
   "source": [
    "## 3.8. Basket Size - Quantity of Itens by basket"
   ]
  },
  {
   "cell_type": "code",
   "execution_count": 33,
   "id": "49d25bce",
   "metadata": {
    "ExecuteTime": {
     "end_time": "2023-03-03T19:24:24.377538Z",
     "start_time": "2023-03-03T19:24:24.370549Z"
    },
    "hidden": true,
    "scrolled": false
   },
   "outputs": [],
   "source": [
    "# df_aux = ( df3_purchase[['customer_id', 'invoice_no', 'quantity']].groupby('customer_id')\n",
    "#                                                                   .agg( n_purchase = ('invoice_no', 'nunique'),\n",
    "#                                                                         n_products = ('quantity', 'sum') ).reset_index() )\n",
    "# # calculation\n",
    "# df_aux['avg_basket_size'] = df_aux['n_products'] / df_aux['n_purchase']\n",
    "\n",
    "# # merge\n",
    "# df_ref = pd.merge( df_ref, df_aux[['customer_id', 'avg_basket_size']], how= 'left', on='customer_id')\n",
    "# df_ref.isna().sum()"
   ]
  },
  {
   "cell_type": "markdown",
   "id": "63e18faa",
   "metadata": {
    "hidden": true
   },
   "source": [
    "## 3.9. Unique Basket Size - Quantity of Itens"
   ]
  },
  {
   "cell_type": "code",
   "execution_count": 34,
   "id": "e4a0deda",
   "metadata": {
    "ExecuteTime": {
     "end_time": "2023-03-03T19:24:24.423406Z",
     "start_time": "2023-03-03T19:24:24.387504Z"
    },
    "hidden": true
   },
   "outputs": [],
   "source": [
    "# df_aux = ( df3_purchase[['customer_id', 'invoice_no', 'stock_code']].groupby('customer_id')\n",
    "#                                                                     .agg( n_purchase = ('invoice_no', 'nunique'),\n",
    "#                                                                           n_products = ('stock_code', 'nunique') ).reset_index() )\n",
    "# # calculation\n",
    "# df_aux['avg_unique_basket_size'] = df_aux['n_products'] / df_aux['n_purchase']\n",
    "\n",
    "# # merge\n",
    "# df_ref = pd.merge( df_ref, df_aux[['customer_id', 'avg_unique_basket_size']], how= 'left', on='customer_id')\n",
    "# df_ref.isna().sum()"
   ]
  },
  {
   "cell_type": "markdown",
   "id": "e1c7db85",
   "metadata": {
    "hidden": true
   },
   "source": [
    "## 3.10. Quantity of Itens"
   ]
  },
  {
   "cell_type": "code",
   "execution_count": 35,
   "id": "050e5fb5",
   "metadata": {
    "ExecuteTime": {
     "end_time": "2023-03-03T19:24:24.439364Z",
     "start_time": "2023-03-03T19:24:24.425401Z"
    },
    "hidden": true
   },
   "outputs": [],
   "source": [
    "# # quantity\n",
    "# df_quant_prod = df3_purchase[['customer_id', 'quantity']].groupby('customer_id').sum().reset_index().rename( columns = {'quantity': 'qty_itens'})\n",
    "# df_ref = pd.merge( df_ref, df_quant_prod, how= 'left', on = 'customer_id' )\n",
    "# df_ref.isna().sum()"
   ]
  },
  {
   "cell_type": "markdown",
   "id": "487140ac",
   "metadata": {
    "hidden": true
   },
   "source": [
    "## 3.11. Quantity of Products\n"
   ]
  },
  {
   "cell_type": "code",
   "execution_count": 30,
   "id": "202b79a5",
   "metadata": {
    "ExecuteTime": {
     "end_time": "2023-03-06T10:29:46.667284Z",
     "start_time": "2023-03-06T10:29:46.552588Z"
    },
    "hidden": true,
    "scrolled": true
   },
   "outputs": [
    {
     "data": {
      "text/plain": [
       "customer_id        0\n",
       "gross_revenue    215\n",
       "recency_days     215\n",
       "frequency        215\n",
       "qty_returns        0\n",
       "qty_products     215\n",
       "dtype: int64"
      ]
     },
     "execution_count": 30,
     "metadata": {},
     "output_type": "execute_result"
    }
   ],
   "source": [
    "# quantity\n",
    "df_quant_prod = df3_purchase[['customer_id', 'stock_code']].groupby('customer_id').count().reset_index().rename( columns = {'stock_code': 'qty_products'})\n",
    "df_ref = pd.merge( df_ref, df_quant_prod, how= 'left', on = 'customer_id' )\n",
    "df_ref.isna().sum()"
   ]
  },
  {
   "cell_type": "code",
   "execution_count": 31,
   "id": "145c0be4",
   "metadata": {
    "ExecuteTime": {
     "end_time": "2023-03-06T10:29:52.337876Z",
     "start_time": "2023-03-06T10:29:52.328936Z"
    },
    "hidden": true
   },
   "outputs": [
    {
     "data": {
      "text/plain": [
       "(5970, 6)"
      ]
     },
     "execution_count": 31,
     "metadata": {},
     "output_type": "execute_result"
    }
   ],
   "source": [
    "df_ref.shape"
   ]
  },
  {
   "cell_type": "markdown",
   "id": "6cc3e774",
   "metadata": {},
   "source": [
    "# 4.0. EDA - EXPLORATORY DATA ANALYSIS "
   ]
  },
  {
   "cell_type": "code",
   "execution_count": 32,
   "id": "a88d656c",
   "metadata": {
    "ExecuteTime": {
     "end_time": "2023-03-06T10:30:22.910349Z",
     "start_time": "2023-03-06T10:30:22.882418Z"
    },
    "scrolled": true
   },
   "outputs": [
    {
     "data": {
      "text/plain": [
       "customer_id      0\n",
       "gross_revenue    0\n",
       "recency_days     0\n",
       "frequency        0\n",
       "qty_returns      0\n",
       "qty_products     0\n",
       "dtype: int64"
      ]
     },
     "execution_count": 32,
     "metadata": {},
     "output_type": "execute_result"
    }
   ],
   "source": [
    "df4 = df_ref.dropna()\n",
    "df4.isna().sum()"
   ]
  },
  {
   "cell_type": "code",
   "execution_count": 33,
   "id": "f3a1a28b",
   "metadata": {
    "ExecuteTime": {
     "end_time": "2023-03-06T10:30:23.667292Z",
     "start_time": "2023-03-06T10:30:23.645349Z"
    }
   },
   "outputs": [
    {
     "data": {
      "text/plain": [
       "(5755, 6)"
      ]
     },
     "execution_count": 33,
     "metadata": {},
     "output_type": "execute_result"
    }
   ],
   "source": [
    "df4.shape"
   ]
  },
  {
   "cell_type": "markdown",
   "id": "217589f1",
   "metadata": {},
   "source": [
    "## 4.3. Space Study"
   ]
  },
  {
   "cell_type": "code",
   "execution_count": 34,
   "id": "e114ef1f",
   "metadata": {
    "ExecuteTime": {
     "end_time": "2023-03-06T10:31:36.026484Z",
     "start_time": "2023-03-06T10:31:36.017506Z"
    }
   },
   "outputs": [],
   "source": [
    "# selected dataset\n",
    "cols_selected = ['customer_id', 'gross_revenue', 'recency_days', 'qty_products', 'frequency', 'qty_returns']\n",
    "\n",
    "df4_3 = df4[cols_selected].drop( columns= 'customer_id', axis= 1 )"
   ]
  },
  {
   "cell_type": "code",
   "execution_count": 37,
   "id": "f486bcd4",
   "metadata": {
    "ExecuteTime": {
     "end_time": "2023-03-06T10:33:03.674479Z",
     "start_time": "2023-03-06T10:33:03.640528Z"
    }
   },
   "outputs": [],
   "source": [
    "# normalizar os dados\n",
    "mm = pp.MinMaxScaler()\n",
    "\n",
    "df4_3['gross_revenue']  = mm.fit_transform( df4_3[['gross_revenue']] )\n",
    "df4_3['recency_days']   = mm.fit_transform( df4_3[['recency_days']] )\n",
    "df4_3['frequency']      = mm.fit_transform( df4_3[['frequency']] )\n",
    "df4_3['qty_returns']    = mm.fit_transform( df4_3[['qty_returns']] )\n",
    "df4_3['qty_products']   = mm.fit_transform( df4_3[['qty_products']] )\n",
    "\n",
    "X = df4_3.copy()"
   ]
  },
  {
   "cell_type": "markdown",
   "id": "29c6ac38",
   "metadata": {},
   "source": [
    "### 4.3.1 PCA"
   ]
  },
  {
   "cell_type": "code",
   "execution_count": 39,
   "id": "c31d3175",
   "metadata": {
    "ExecuteTime": {
     "end_time": "2023-03-06T10:48:18.393718Z",
     "start_time": "2023-03-06T10:48:18.113171Z"
    }
   },
   "outputs": [
    {
     "data": {
      "image/png": "[encoded data removed]",
      "text/plain": [
       "<Figure size 640x480 with 1 Axes>"
      ]
     },
     "metadata": {},
     "output_type": "display_data"
    }
   ],
   "source": [
    "pca = dd.PCA( n_components= X.shape[1])\n",
    "\n",
    "principal_components = pca.fit_transform( X )\n",
    "\n",
    "# plot explained variable\n",
    "features = range( pca.n_components_ )\n",
    "\n",
    "plt.bar( x= features, height = pca.explained_variance_ratio_ );\n",
    "\n",
    "# PCA component\n",
    "df_pca = pd.DataFrame( principal_components )"
   ]
  },
  {
   "cell_type": "code",
   "execution_count": 40,
   "id": "74ca66f1",
   "metadata": {
    "ExecuteTime": {
     "end_time": "2023-03-06T10:48:22.596619Z",
     "start_time": "2023-03-06T10:48:22.417715Z"
    }
   },
   "outputs": [
    {
     "data": {
      "image/png": "[encoded data removed]",
      "text/plain": [
       "<Figure size 640x480 with 1 Axes>"
      ]
     },
     "metadata": {},
     "output_type": "display_data"
    }
   ],
   "source": [
    "sns.scatterplot( x=0, y=1, data = df_pca);"
   ]
  },
  {
   "cell_type": "markdown",
   "id": "e12bca75",
   "metadata": {},
   "source": [
    "### 4.3.2. UMAP"
   ]
  },
  {
   "cell_type": "code",
   "execution_count": 121,
   "id": "fda2fcdd",
   "metadata": {
    "ExecuteTime": {
     "end_time": "2023-03-06T15:17:03.833145Z",
     "start_time": "2023-03-06T15:16:51.940808Z"
    }
   },
   "outputs": [],
   "source": [
    "reducer = umap.UMAP( n_components= 2, random_state = 42)\n",
    "embedding = reducer.fit_transform( X )\n",
    "\n",
    "# embedding\n",
    "df_umap = pd.DataFrame()\n",
    "df_umap['embedding_x'] = embedding[:, 0]\n",
    "df_umap['embedding_y'] = embedding[:, 1]\n",
    "\n",
    "# plot UMAP\n",
    "# sns.scatterplot( x='embedding_x', y='embedding_y', data= df_umap )"
   ]
  },
  {
   "cell_type": "markdown",
   "id": "0d219e3e",
   "metadata": {},
   "source": [
    "### 4.3.3. t-SNE"
   ]
  },
  {
   "cell_type": "code",
   "execution_count": 124,
   "id": "e0249bf9",
   "metadata": {
    "ExecuteTime": {
     "end_time": "2023-03-06T15:18:29.397896Z",
     "start_time": "2023-03-06T15:18:29.093740Z"
    }
   },
   "outputs": [
    {
     "ename": "ValueError",
     "evalue": "n_components=3 must be between 1 and min(n_samples, n_features)=2 with svd_solver='randomized'",
     "output_type": "error",
     "traceback": [
      "\u001b[1;31m---------------------------------------------------------------------------\u001b[0m",
      "\u001b[1;31mValueError\u001b[0m                                Traceback (most recent call last)",
      "Input \u001b[1;32mIn [124]\u001b[0m, in \u001b[0;36m<cell line: 2>\u001b[1;34m()\u001b[0m\n\u001b[0;32m      1\u001b[0m reducer \u001b[38;5;241m=\u001b[39m TSNE( n_components\u001b[38;5;241m=\u001b[39m \u001b[38;5;241m3\u001b[39m, n_jobs\u001b[38;5;241m=\u001b[39m \u001b[38;5;241m-\u001b[39m\u001b[38;5;241m1\u001b[39m, random_state \u001b[38;5;241m=\u001b[39m \u001b[38;5;241m42\u001b[39m)\n\u001b[1;32m----> 2\u001b[0m embedding \u001b[38;5;241m=\u001b[39m \u001b[43mreducer\u001b[49m\u001b[38;5;241;43m.\u001b[39;49m\u001b[43mfit_transform\u001b[49m\u001b[43m(\u001b[49m\u001b[43m \u001b[49m\u001b[43mX\u001b[49m\u001b[43m \u001b[49m\u001b[43m)\u001b[49m\n\u001b[0;32m      4\u001b[0m \u001b[38;5;66;03m# embedding\u001b[39;00m\n\u001b[0;32m      5\u001b[0m df_tsne \u001b[38;5;241m=\u001b[39m pd\u001b[38;5;241m.\u001b[39mDataFrame()\n",
      "File \u001b[1;32m~\\anaconda3\\envs\\ds_clusterizacao\\lib\\site-packages\\sklearn\\manifold\\_t_sne.py:1119\u001b[0m, in \u001b[0;36mTSNE.fit_transform\u001b[1;34m(self, X, y)\u001b[0m\n\u001b[0;32m   1117\u001b[0m \u001b[38;5;28mself\u001b[39m\u001b[38;5;241m.\u001b[39m_validate_params()\n\u001b[0;32m   1118\u001b[0m \u001b[38;5;28mself\u001b[39m\u001b[38;5;241m.\u001b[39m_check_params_vs_input(X)\n\u001b[1;32m-> 1119\u001b[0m embedding \u001b[38;5;241m=\u001b[39m \u001b[38;5;28;43mself\u001b[39;49m\u001b[38;5;241;43m.\u001b[39;49m\u001b[43m_fit\u001b[49m\u001b[43m(\u001b[49m\u001b[43mX\u001b[49m\u001b[43m)\u001b[49m\n\u001b[0;32m   1120\u001b[0m \u001b[38;5;28mself\u001b[39m\u001b[38;5;241m.\u001b[39membedding_ \u001b[38;5;241m=\u001b[39m embedding\n\u001b[0;32m   1121\u001b[0m \u001b[38;5;28;01mreturn\u001b[39;00m \u001b[38;5;28mself\u001b[39m\u001b[38;5;241m.\u001b[39membedding_\n",
      "File \u001b[1;32m~\\anaconda3\\envs\\ds_clusterizacao\\lib\\site-packages\\sklearn\\manifold\\_t_sne.py:995\u001b[0m, in \u001b[0;36mTSNE._fit\u001b[1;34m(self, X, skip_num_points)\u001b[0m\n\u001b[0;32m    993\u001b[0m \u001b[38;5;66;03m# Always output a numpy array, no matter what is configured globally\u001b[39;00m\n\u001b[0;32m    994\u001b[0m pca\u001b[38;5;241m.\u001b[39mset_output(transform\u001b[38;5;241m=\u001b[39m\u001b[38;5;124m\"\u001b[39m\u001b[38;5;124mdefault\u001b[39m\u001b[38;5;124m\"\u001b[39m)\n\u001b[1;32m--> 995\u001b[0m X_embedded \u001b[38;5;241m=\u001b[39m \u001b[43mpca\u001b[49m\u001b[38;5;241;43m.\u001b[39;49m\u001b[43mfit_transform\u001b[49m\u001b[43m(\u001b[49m\u001b[43mX\u001b[49m\u001b[43m)\u001b[49m\u001b[38;5;241m.\u001b[39mastype(np\u001b[38;5;241m.\u001b[39mfloat32, copy\u001b[38;5;241m=\u001b[39m\u001b[38;5;28;01mFalse\u001b[39;00m)\n\u001b[0;32m    996\u001b[0m \u001b[38;5;66;03m# PCA is rescaled so that PC1 has standard deviation 1e-4 which is\u001b[39;00m\n\u001b[0;32m    997\u001b[0m \u001b[38;5;66;03m# the default value for random initialization. See issue #18018.\u001b[39;00m\n\u001b[0;32m    998\u001b[0m X_embedded \u001b[38;5;241m=\u001b[39m X_embedded \u001b[38;5;241m/\u001b[39m np\u001b[38;5;241m.\u001b[39mstd(X_embedded[:, \u001b[38;5;241m0\u001b[39m]) \u001b[38;5;241m*\u001b[39m \u001b[38;5;241m1e-4\u001b[39m\n",
      "File \u001b[1;32m~\\anaconda3\\envs\\ds_clusterizacao\\lib\\site-packages\\sklearn\\utils\\_set_output.py:142\u001b[0m, in \u001b[0;36m_wrap_method_output.<locals>.wrapped\u001b[1;34m(self, X, *args, **kwargs)\u001b[0m\n\u001b[0;32m    140\u001b[0m \u001b[38;5;129m@wraps\u001b[39m(f)\n\u001b[0;32m    141\u001b[0m \u001b[38;5;28;01mdef\u001b[39;00m \u001b[38;5;21mwrapped\u001b[39m(\u001b[38;5;28mself\u001b[39m, X, \u001b[38;5;241m*\u001b[39margs, \u001b[38;5;241m*\u001b[39m\u001b[38;5;241m*\u001b[39mkwargs):\n\u001b[1;32m--> 142\u001b[0m     data_to_wrap \u001b[38;5;241m=\u001b[39m f(\u001b[38;5;28mself\u001b[39m, X, \u001b[38;5;241m*\u001b[39margs, \u001b[38;5;241m*\u001b[39m\u001b[38;5;241m*\u001b[39mkwargs)\n\u001b[0;32m    143\u001b[0m     \u001b[38;5;28;01mif\u001b[39;00m \u001b[38;5;28misinstance\u001b[39m(data_to_wrap, \u001b[38;5;28mtuple\u001b[39m):\n\u001b[0;32m    144\u001b[0m         \u001b[38;5;66;03m# only wrap the first output for cross decomposition\u001b[39;00m\n\u001b[0;32m    145\u001b[0m         \u001b[38;5;28;01mreturn\u001b[39;00m (\n\u001b[0;32m    146\u001b[0m             _wrap_data_with_container(method, data_to_wrap[\u001b[38;5;241m0\u001b[39m], X, \u001b[38;5;28mself\u001b[39m),\n\u001b[0;32m    147\u001b[0m             \u001b[38;5;241m*\u001b[39mdata_to_wrap[\u001b[38;5;241m1\u001b[39m:],\n\u001b[0;32m    148\u001b[0m         )\n",
      "File \u001b[1;32m~\\anaconda3\\envs\\ds_clusterizacao\\lib\\site-packages\\sklearn\\decomposition\\_pca.py:462\u001b[0m, in \u001b[0;36mPCA.fit_transform\u001b[1;34m(self, X, y)\u001b[0m\n\u001b[0;32m    439\u001b[0m \u001b[38;5;124;03m\"\"\"Fit the model with X and apply the dimensionality reduction on X.\u001b[39;00m\n\u001b[0;32m    440\u001b[0m \n\u001b[0;32m    441\u001b[0m \u001b[38;5;124;03mParameters\u001b[39;00m\n\u001b[1;32m   (...)\u001b[0m\n\u001b[0;32m    458\u001b[0m \u001b[38;5;124;03mC-ordered array, use 'np.ascontiguousarray'.\u001b[39;00m\n\u001b[0;32m    459\u001b[0m \u001b[38;5;124;03m\"\"\"\u001b[39;00m\n\u001b[0;32m    460\u001b[0m \u001b[38;5;28mself\u001b[39m\u001b[38;5;241m.\u001b[39m_validate_params()\n\u001b[1;32m--> 462\u001b[0m U, S, Vt \u001b[38;5;241m=\u001b[39m \u001b[38;5;28;43mself\u001b[39;49m\u001b[38;5;241;43m.\u001b[39;49m\u001b[43m_fit\u001b[49m\u001b[43m(\u001b[49m\u001b[43mX\u001b[49m\u001b[43m)\u001b[49m\n\u001b[0;32m    463\u001b[0m U \u001b[38;5;241m=\u001b[39m U[:, : \u001b[38;5;28mself\u001b[39m\u001b[38;5;241m.\u001b[39mn_components_]\n\u001b[0;32m    465\u001b[0m \u001b[38;5;28;01mif\u001b[39;00m \u001b[38;5;28mself\u001b[39m\u001b[38;5;241m.\u001b[39mwhiten:\n\u001b[0;32m    466\u001b[0m     \u001b[38;5;66;03m# X_new = X * V / S * sqrt(n_samples) = U * sqrt(n_samples)\u001b[39;00m\n",
      "File \u001b[1;32m~\\anaconda3\\envs\\ds_clusterizacao\\lib\\site-packages\\sklearn\\decomposition\\_pca.py:514\u001b[0m, in \u001b[0;36mPCA._fit\u001b[1;34m(self, X)\u001b[0m\n\u001b[0;32m    512\u001b[0m     \u001b[38;5;28;01mreturn\u001b[39;00m \u001b[38;5;28mself\u001b[39m\u001b[38;5;241m.\u001b[39m_fit_full(X, n_components)\n\u001b[0;32m    513\u001b[0m \u001b[38;5;28;01melif\u001b[39;00m \u001b[38;5;28mself\u001b[39m\u001b[38;5;241m.\u001b[39m_fit_svd_solver \u001b[38;5;129;01min\u001b[39;00m [\u001b[38;5;124m\"\u001b[39m\u001b[38;5;124marpack\u001b[39m\u001b[38;5;124m\"\u001b[39m, \u001b[38;5;124m\"\u001b[39m\u001b[38;5;124mrandomized\u001b[39m\u001b[38;5;124m\"\u001b[39m]:\n\u001b[1;32m--> 514\u001b[0m     \u001b[38;5;28;01mreturn\u001b[39;00m \u001b[38;5;28;43mself\u001b[39;49m\u001b[38;5;241;43m.\u001b[39;49m\u001b[43m_fit_truncated\u001b[49m\u001b[43m(\u001b[49m\u001b[43mX\u001b[49m\u001b[43m,\u001b[49m\u001b[43m \u001b[49m\u001b[43mn_components\u001b[49m\u001b[43m,\u001b[49m\u001b[43m \u001b[49m\u001b[38;5;28;43mself\u001b[39;49m\u001b[38;5;241;43m.\u001b[39;49m\u001b[43m_fit_svd_solver\u001b[49m\u001b[43m)\u001b[49m\n",
      "File \u001b[1;32m~\\anaconda3\\envs\\ds_clusterizacao\\lib\\site-packages\\sklearn\\decomposition\\_pca.py:587\u001b[0m, in \u001b[0;36mPCA._fit_truncated\u001b[1;34m(self, X, n_components, svd_solver)\u001b[0m\n\u001b[0;32m    582\u001b[0m     \u001b[38;5;28;01mraise\u001b[39;00m \u001b[38;5;167;01mValueError\u001b[39;00m(\n\u001b[0;32m    583\u001b[0m         \u001b[38;5;124m\"\u001b[39m\u001b[38;5;124mn_components=\u001b[39m\u001b[38;5;132;01m%r\u001b[39;00m\u001b[38;5;124m cannot be a string with svd_solver=\u001b[39m\u001b[38;5;124m'\u001b[39m\u001b[38;5;132;01m%s\u001b[39;00m\u001b[38;5;124m'\u001b[39m\u001b[38;5;124m\"\u001b[39m\n\u001b[0;32m    584\u001b[0m         \u001b[38;5;241m%\u001b[39m (n_components, svd_solver)\n\u001b[0;32m    585\u001b[0m     )\n\u001b[0;32m    586\u001b[0m \u001b[38;5;28;01melif\u001b[39;00m \u001b[38;5;129;01mnot\u001b[39;00m \u001b[38;5;241m1\u001b[39m \u001b[38;5;241m<\u001b[39m\u001b[38;5;241m=\u001b[39m n_components \u001b[38;5;241m<\u001b[39m\u001b[38;5;241m=\u001b[39m \u001b[38;5;28mmin\u001b[39m(n_samples, n_features):\n\u001b[1;32m--> 587\u001b[0m     \u001b[38;5;28;01mraise\u001b[39;00m \u001b[38;5;167;01mValueError\u001b[39;00m(\n\u001b[0;32m    588\u001b[0m         \u001b[38;5;124m\"\u001b[39m\u001b[38;5;124mn_components=\u001b[39m\u001b[38;5;132;01m%r\u001b[39;00m\u001b[38;5;124m must be between 1 and \u001b[39m\u001b[38;5;124m\"\u001b[39m\n\u001b[0;32m    589\u001b[0m         \u001b[38;5;124m\"\u001b[39m\u001b[38;5;124mmin(n_samples, n_features)=\u001b[39m\u001b[38;5;132;01m%r\u001b[39;00m\u001b[38;5;124m with \u001b[39m\u001b[38;5;124m\"\u001b[39m\n\u001b[0;32m    590\u001b[0m         \u001b[38;5;124m\"\u001b[39m\u001b[38;5;124msvd_solver=\u001b[39m\u001b[38;5;124m'\u001b[39m\u001b[38;5;132;01m%s\u001b[39;00m\u001b[38;5;124m'\u001b[39m\u001b[38;5;124m\"\u001b[39m\n\u001b[0;32m    591\u001b[0m         \u001b[38;5;241m%\u001b[39m (n_components, \u001b[38;5;28mmin\u001b[39m(n_samples, n_features), svd_solver)\n\u001b[0;32m    592\u001b[0m     )\n\u001b[0;32m    593\u001b[0m \u001b[38;5;28;01melif\u001b[39;00m svd_solver \u001b[38;5;241m==\u001b[39m \u001b[38;5;124m\"\u001b[39m\u001b[38;5;124marpack\u001b[39m\u001b[38;5;124m\"\u001b[39m \u001b[38;5;129;01mand\u001b[39;00m n_components \u001b[38;5;241m==\u001b[39m \u001b[38;5;28mmin\u001b[39m(n_samples, n_features):\n\u001b[0;32m    594\u001b[0m     \u001b[38;5;28;01mraise\u001b[39;00m \u001b[38;5;167;01mValueError\u001b[39;00m(\n\u001b[0;32m    595\u001b[0m         \u001b[38;5;124m\"\u001b[39m\u001b[38;5;124mn_components=\u001b[39m\u001b[38;5;132;01m%r\u001b[39;00m\u001b[38;5;124m must be strictly less than \u001b[39m\u001b[38;5;124m\"\u001b[39m\n\u001b[0;32m    596\u001b[0m         \u001b[38;5;124m\"\u001b[39m\u001b[38;5;124mmin(n_samples, n_features)=\u001b[39m\u001b[38;5;132;01m%r\u001b[39;00m\u001b[38;5;124m with \u001b[39m\u001b[38;5;124m\"\u001b[39m\n\u001b[0;32m    597\u001b[0m         \u001b[38;5;124m\"\u001b[39m\u001b[38;5;124msvd_solver=\u001b[39m\u001b[38;5;124m'\u001b[39m\u001b[38;5;132;01m%s\u001b[39;00m\u001b[38;5;124m'\u001b[39m\u001b[38;5;124m\"\u001b[39m\n\u001b[0;32m    598\u001b[0m         \u001b[38;5;241m%\u001b[39m (n_components, \u001b[38;5;28mmin\u001b[39m(n_samples, n_features), svd_solver)\n\u001b[0;32m    599\u001b[0m     )\n",
      "\u001b[1;31mValueError\u001b[0m: n_components=3 must be between 1 and min(n_samples, n_features)=2 with svd_solver='randomized'"
     ]
    }
   ],
   "source": [
    "reducer = TSNE( n_components= 2, n_jobs= -1, random_state = 42)\n",
    "embedding = reducer.fit_transform( X )\n",
    "\n",
    "# embedding\n",
    "df_tsne = pd.DataFrame()\n",
    "df_tsne['embedding_x'] = embedding[:, 0]\n",
    "df_tsne['embedding_y'] = embedding[:, 1]\n",
    "\n",
    "# plot TSNE\n",
    "sns.scatterplot( x='embedding_x', y='embedding_y', data= df_tsne )"
   ]
  },
  {
   "cell_type": "markdown",
   "id": "ab296ef6",
   "metadata": {},
   "source": [
    "### 4.3.4. Tree-Based Embedding"
   ]
  },
  {
   "cell_type": "code",
   "execution_count": 164,
   "id": "bb886c62",
   "metadata": {
    "ExecuteTime": {
     "end_time": "2023-03-06T15:36:18.667394Z",
     "start_time": "2023-03-06T15:36:16.385763Z"
    }
   },
   "outputs": [],
   "source": [
    "# Training Dataset\n",
    "X = df4_3.drop( columns= 'gross_revenue', axis=1 )\n",
    "y = df4_3['gross_revenue']\n",
    "\n",
    "# model definition\n",
    "rf_model = en.RandomForestRegressor( n_estimators=100, random_state=42 )\n",
    "\n",
    "# model training\n",
    "rf_model.fit( X, y )\n",
    "\n",
    "# Leaf\n",
    "df_leaf =  pd.DataFrame( rf_model.apply( X ) )"
   ]
  },
  {
   "cell_type": "code",
   "execution_count": 165,
   "id": "e0a23ff3",
   "metadata": {
    "ExecuteTime": {
     "end_time": "2023-03-06T15:36:30.158884Z",
     "start_time": "2023-03-06T15:36:18.669392Z"
    },
    "scrolled": false
   },
   "outputs": [
    {
     "name": "stderr",
     "output_type": "stream",
     "text": [
      "C:\\Users\\samue\\anaconda3\\envs\\ds_clusterizacao\\lib\\site-packages\\sklearn\\manifold\\_spectral_embedding.py:274: UserWarning: Graph is not fully connected, spectral embedding may not work as expected.\n",
      "  warnings.warn(\n"
     ]
    }
   ],
   "source": [
    "# reducer dimensionality\n",
    "reducer = umap.UMAP( n_components= 2, random_state = 42)\n",
    "embedding = reducer.fit_transform( df_leaf )\n",
    "\n",
    "# embedding\n",
    "df_tree = pd.DataFrame()\n",
    "df_tree['embedding_x'] = embedding[:, 0]\n",
    "df_tree['embedding_y'] = embedding[:, 1]\n",
    "\n",
    "# plot UMAP\n",
    "# sns.scatterplot( x='embedding_x', y='embedding_y', data= df_tree )"
   ]
  },
  {
   "cell_type": "markdown",
   "id": "a33652a7",
   "metadata": {},
   "source": [
    "# 5.0. DATA PREPARATION"
   ]
  },
  {
   "cell_type": "code",
   "execution_count": 166,
   "id": "1a53ff73",
   "metadata": {
    "ExecuteTime": {
     "end_time": "2023-03-06T15:36:30.170860Z",
     "start_time": "2023-03-06T15:36:30.160930Z"
    }
   },
   "outputs": [],
   "source": [
    "# tree-based embedding\n",
    "df5 = df_tree.copy()\n",
    "\n",
    "# # UMAP embedding\n",
    "# df5 = df_umap.copy()\n",
    "# df5.to_csv( '../datasets/umap_embedding.csv', index= False)\n",
    "\n",
    "# # TSNE embedding\n",
    "# df5 = df_tsne.copy()"
   ]
  },
  {
   "cell_type": "markdown",
   "id": "0dfeffa8",
   "metadata": {},
   "source": [
    "# 7.0. HYPERPARAMETER FINE-TUNING"
   ]
  },
  {
   "cell_type": "code",
   "execution_count": 167,
   "id": "c13dfd53",
   "metadata": {
    "ExecuteTime": {
     "end_time": "2023-03-06T15:36:30.200788Z",
     "start_time": "2023-03-06T15:36:30.177841Z"
    }
   },
   "outputs": [],
   "source": [
    "X = df5.copy()"
   ]
  },
  {
   "cell_type": "code",
   "execution_count": 168,
   "id": "6886267d",
   "metadata": {
    "ExecuteTime": {
     "end_time": "2023-03-06T15:36:30.232695Z",
     "start_time": "2023-03-06T15:36:30.205766Z"
    }
   },
   "outputs": [
    {
     "data": {
      "text/html": [
       "<div>\n",
       "<style scoped>\n",
       "    .dataframe tbody tr th:only-of-type {\n",
       "        vertical-align: middle;\n",
       "    }\n",
       "\n",
       "    .dataframe tbody tr th {\n",
       "        vertical-align: top;\n",
       "    }\n",
       "\n",
       "    .dataframe thead th {\n",
       "        text-align: right;\n",
       "    }\n",
       "</style>\n",
       "<table border=\"1\" class=\"dataframe\">\n",
       "  <thead>\n",
       "    <tr style=\"text-align: right;\">\n",
       "      <th></th>\n",
       "      <th>embedding_x</th>\n",
       "      <th>embedding_y</th>\n",
       "      <th>embedding_z</th>\n",
       "    </tr>\n",
       "  </thead>\n",
       "  <tbody>\n",
       "    <tr>\n",
       "      <th>0</th>\n",
       "      <td>1.461584</td>\n",
       "      <td>2.367123</td>\n",
       "      <td>-7.883694</td>\n",
       "    </tr>\n",
       "    <tr>\n",
       "      <th>1</th>\n",
       "      <td>3.750394</td>\n",
       "      <td>5.237528</td>\n",
       "      <td>-10.272902</td>\n",
       "    </tr>\n",
       "    <tr>\n",
       "      <th>2</th>\n",
       "      <td>1.629261</td>\n",
       "      <td>2.707426</td>\n",
       "      <td>-8.505456</td>\n",
       "    </tr>\n",
       "    <tr>\n",
       "      <th>3</th>\n",
       "      <td>4.841339</td>\n",
       "      <td>-8.519366</td>\n",
       "      <td>-0.688966</td>\n",
       "    </tr>\n",
       "    <tr>\n",
       "      <th>4</th>\n",
       "      <td>6.018250</td>\n",
       "      <td>-6.270780</td>\n",
       "      <td>9.418546</td>\n",
       "    </tr>\n",
       "  </tbody>\n",
       "</table>\n",
       "</div>"
      ],
      "text/plain": [
       "   embedding_x  embedding_y  embedding_z\n",
       "0     1.461584     2.367123    -7.883694\n",
       "1     3.750394     5.237528   -10.272902\n",
       "2     1.629261     2.707426    -8.505456\n",
       "3     4.841339    -8.519366    -0.688966\n",
       "4     6.018250    -6.270780     9.418546"
      ]
     },
     "execution_count": 168,
     "metadata": {},
     "output_type": "execute_result"
    }
   ],
   "source": [
    "X.head()"
   ]
  },
  {
   "cell_type": "code",
   "execution_count": 170,
   "id": "11dad4e5",
   "metadata": {
    "ExecuteTime": {
     "end_time": "2023-03-06T15:36:39.956058Z",
     "start_time": "2023-03-06T15:36:39.947045Z"
    }
   },
   "outputs": [
    {
     "data": {
      "text/plain": [
       "array([ 2,  3,  4,  5,  6,  7,  8,  9, 10, 11, 12, 13, 14, 15, 16, 17, 18,\n",
       "       19, 20])"
      ]
     },
     "execution_count": 170,
     "metadata": {},
     "output_type": "execute_result"
    }
   ],
   "source": [
    "clusters = np.arange( 2, 21, 1)\n",
    "clusters"
   ]
  },
  {
   "cell_type": "markdown",
   "id": "4afd8c27",
   "metadata": {},
   "source": [
    "## 7.1. K-Means"
   ]
  },
  {
   "cell_type": "code",
   "execution_count": 171,
   "id": "b37f6386",
   "metadata": {
    "ExecuteTime": {
     "end_time": "2023-03-06T15:37:23.849659Z",
     "start_time": "2023-03-06T15:36:42.137678Z"
    }
   },
   "outputs": [],
   "source": [
    "kmeans_list = []\n",
    "\n",
    "for k in clusters:\n",
    "    # model definition\n",
    "    kmeans_model = c.KMeans( n_clusters=k, n_init=100, random_state= 42 )\n",
    "\n",
    "    # model training\n",
    "    kmeans_model.fit( X )\n",
    "\n",
    "    # model predict\n",
    "    labels = kmeans_model.predict( X )\n",
    "\n",
    "    # model performance\n",
    "    sil = mt.silhouette_score( X, labels, metric='euclidean' )\n",
    "    kmeans_list.append( sil )"
   ]
  },
  {
   "cell_type": "code",
   "execution_count": 172,
   "id": "103c7744",
   "metadata": {
    "ExecuteTime": {
     "end_time": "2023-03-06T15:37:24.055109Z",
     "start_time": "2023-03-06T15:37:23.853648Z"
    }
   },
   "outputs": [
    {
     "data": {
      "image/png": "[encoded data removed]",
      "text/plain": [
       "<Figure size 640x480 with 1 Axes>"
      ]
     },
     "metadata": {},
     "output_type": "display_data"
    }
   ],
   "source": [
    "plt.plot( clusters, kmeans_list, linestyle= '--', marker='o', color='b');\n",
    "plt.xlabel( 'K' );\n",
    "plt.ylabel( 'Silhouette Score');\n",
    "plt.title( 'Silhouette Score x K');"
   ]
  },
  {
   "cell_type": "markdown",
   "id": "f61aa4a3",
   "metadata": {},
   "source": [
    "## 7.2. GMM"
   ]
  },
  {
   "cell_type": "code",
   "execution_count": 173,
   "id": "e1178872",
   "metadata": {
    "ExecuteTime": {
     "end_time": "2023-03-06T15:38:06.550704Z",
     "start_time": "2023-03-06T15:37:24.058101Z"
    }
   },
   "outputs": [],
   "source": [
    "gmm_list = []\n",
    "\n",
    "for k in clusters:\n",
    "    # model definition\n",
    "    gmm_model = mx.GaussianMixture( n_components= k, n_init=10, random_state= 42)\n",
    "\n",
    "    # model training\n",
    "    gmm_model.fit( X )\n",
    "\n",
    "    # model predict\n",
    "    labels = gmm_model.predict( X )\n",
    "\n",
    "    # model performance\n",
    "    sil = mt.silhouette_score( X, labels, metric= 'euclidean' )\n",
    "    gmm_list.append( sil )"
   ]
  },
  {
   "cell_type": "code",
   "execution_count": 174,
   "id": "32690e2e",
   "metadata": {
    "ExecuteTime": {
     "end_time": "2023-03-06T15:38:06.773780Z",
     "start_time": "2023-03-06T15:38:06.559600Z"
    }
   },
   "outputs": [
    {
     "data": {
      "image/png": "[encoded data removed]",
      "text/plain": [
       "<Figure size 640x480 with 1 Axes>"
      ]
     },
     "metadata": {},
     "output_type": "display_data"
    }
   ],
   "source": [
    "plt.plot( clusters, gmm_list, linestyle='--', marker= 'o', color='b');\n",
    "plt.xlabel( 'K' );\n",
    "plt.ylabel( 'Silhouette Score' );\n",
    "plt.title( 'Silhouette Score x K');"
   ]
  },
  {
   "cell_type": "markdown",
   "id": "c860474a",
   "metadata": {},
   "source": [
    "## 7.3. Hierarchical Clustering\n"
   ]
  },
  {
   "cell_type": "code",
   "execution_count": 175,
   "id": "57b6429c",
   "metadata": {
    "ExecuteTime": {
     "end_time": "2023-03-06T15:38:08.064329Z",
     "start_time": "2023-03-06T15:38:06.778783Z"
    }
   },
   "outputs": [],
   "source": [
    "# model definition and training\n",
    "hc_model = hc.linkage( X, method= 'ward', metric= 'euclidean')"
   ]
  },
  {
   "cell_type": "markdown",
   "id": "f22a8789",
   "metadata": {},
   "source": [
    "### 7.3.1 Hierarchical Clustering Silhouette Score"
   ]
  },
  {
   "cell_type": "code",
   "execution_count": 176,
   "id": "0792ed98",
   "metadata": {
    "ExecuteTime": {
     "end_time": "2023-03-06T15:38:46.089761Z",
     "start_time": "2023-03-06T15:38:08.067321Z"
    }
   },
   "outputs": [],
   "source": [
    "hc_list = []\n",
    "for k in clusters:\n",
    "    # model definition and training\n",
    "    hc_model = hc.linkage( X, method='ward')\n",
    "    \n",
    "    # model predict\n",
    "    labels = hc.fcluster( hc_model, k, criterion= 'maxclust' )\n",
    "    \n",
    "    # model performance\n",
    "    sil = mt.silhouette_score( X, labels, metric= 'euclidean')\n",
    "    hc_list.append( sil )"
   ]
  },
  {
   "cell_type": "code",
   "execution_count": 177,
   "id": "97a0aeda",
   "metadata": {
    "ExecuteTime": {
     "end_time": "2023-03-06T15:38:46.295219Z",
     "start_time": "2023-03-06T15:38:46.094807Z"
    }
   },
   "outputs": [
    {
     "data": {
      "image/png": "[encoded data removed]",
      "text/plain": [
       "<Figure size 640x480 with 1 Axes>"
      ]
     },
     "metadata": {},
     "output_type": "display_data"
    }
   ],
   "source": [
    "plt.plot( clusters, hc_list, linestyle= '--', marker= 'o', color= 'b');\n",
    "plt.xlabel( 'K' );\n",
    "plt.ylabel( 'Silhouette Score' );\n",
    "plt.title( 'Silhouette Score x K' );"
   ]
  },
  {
   "cell_type": "markdown",
   "id": "b2e2a1f3",
   "metadata": {},
   "source": [
    "## 7.5. Results"
   ]
  },
  {
   "cell_type": "code",
   "execution_count": 59,
   "id": "8620a06b",
   "metadata": {
    "ExecuteTime": {
     "end_time": "2023-03-06T11:06:51.721347Z",
     "start_time": "2023-03-06T11:06:51.600230Z"
    },
    "cell_style": "split"
   },
   "outputs": [
    {
     "data": {
      "text/html": [
       "<style type=\"text/css\">\n",
       "#T_fe6d4_row0_col23, #T_fe6d4_row1_col23, #T_fe6d4_row2_col23 {\n",
       "  background-color: lightgreen;\n",
       "}\n",
       "</style>\n",
       "<table id=\"T_fe6d4\">\n",
       "  <thead>\n",
       "    <tr>\n",
       "      <th class=\"blank level0\" >&nbsp;</th>\n",
       "      <th id=\"T_fe6d4_level0_col0\" class=\"col_heading level0 col0\" >2</th>\n",
       "      <th id=\"T_fe6d4_level0_col1\" class=\"col_heading level0 col1\" >3</th>\n",
       "      <th id=\"T_fe6d4_level0_col2\" class=\"col_heading level0 col2\" >4</th>\n",
       "      <th id=\"T_fe6d4_level0_col3\" class=\"col_heading level0 col3\" >5</th>\n",
       "      <th id=\"T_fe6d4_level0_col4\" class=\"col_heading level0 col4\" >6</th>\n",
       "      <th id=\"T_fe6d4_level0_col5\" class=\"col_heading level0 col5\" >7</th>\n",
       "      <th id=\"T_fe6d4_level0_col6\" class=\"col_heading level0 col6\" >8</th>\n",
       "      <th id=\"T_fe6d4_level0_col7\" class=\"col_heading level0 col7\" >9</th>\n",
       "      <th id=\"T_fe6d4_level0_col8\" class=\"col_heading level0 col8\" >10</th>\n",
       "      <th id=\"T_fe6d4_level0_col9\" class=\"col_heading level0 col9\" >11</th>\n",
       "      <th id=\"T_fe6d4_level0_col10\" class=\"col_heading level0 col10\" >12</th>\n",
       "      <th id=\"T_fe6d4_level0_col11\" class=\"col_heading level0 col11\" >13</th>\n",
       "      <th id=\"T_fe6d4_level0_col12\" class=\"col_heading level0 col12\" >14</th>\n",
       "      <th id=\"T_fe6d4_level0_col13\" class=\"col_heading level0 col13\" >15</th>\n",
       "      <th id=\"T_fe6d4_level0_col14\" class=\"col_heading level0 col14\" >16</th>\n",
       "      <th id=\"T_fe6d4_level0_col15\" class=\"col_heading level0 col15\" >17</th>\n",
       "      <th id=\"T_fe6d4_level0_col16\" class=\"col_heading level0 col16\" >18</th>\n",
       "      <th id=\"T_fe6d4_level0_col17\" class=\"col_heading level0 col17\" >19</th>\n",
       "      <th id=\"T_fe6d4_level0_col18\" class=\"col_heading level0 col18\" >20</th>\n",
       "      <th id=\"T_fe6d4_level0_col19\" class=\"col_heading level0 col19\" >21</th>\n",
       "      <th id=\"T_fe6d4_level0_col20\" class=\"col_heading level0 col20\" >22</th>\n",
       "      <th id=\"T_fe6d4_level0_col21\" class=\"col_heading level0 col21\" >23</th>\n",
       "      <th id=\"T_fe6d4_level0_col22\" class=\"col_heading level0 col22\" >24</th>\n",
       "      <th id=\"T_fe6d4_level0_col23\" class=\"col_heading level0 col23\" >25</th>\n",
       "    </tr>\n",
       "  </thead>\n",
       "  <tbody>\n",
       "    <tr>\n",
       "      <th id=\"T_fe6d4_level0_row0\" class=\"row_heading level0 row0\" >KMeans</th>\n",
       "      <td id=\"T_fe6d4_row0_col0\" class=\"data row0 col0\" >0.386090</td>\n",
       "      <td id=\"T_fe6d4_row0_col1\" class=\"data row0 col1\" >0.394245</td>\n",
       "      <td id=\"T_fe6d4_row0_col2\" class=\"data row0 col2\" >0.403541</td>\n",
       "      <td id=\"T_fe6d4_row0_col3\" class=\"data row0 col3\" >0.400799</td>\n",
       "      <td id=\"T_fe6d4_row0_col4\" class=\"data row0 col4\" >0.413998</td>\n",
       "      <td id=\"T_fe6d4_row0_col5\" class=\"data row0 col5\" >0.411208</td>\n",
       "      <td id=\"T_fe6d4_row0_col6\" class=\"data row0 col6\" >0.415312</td>\n",
       "      <td id=\"T_fe6d4_row0_col7\" class=\"data row0 col7\" >0.407625</td>\n",
       "      <td id=\"T_fe6d4_row0_col8\" class=\"data row0 col8\" >0.418816</td>\n",
       "      <td id=\"T_fe6d4_row0_col9\" class=\"data row0 col9\" >0.431671</td>\n",
       "      <td id=\"T_fe6d4_row0_col10\" class=\"data row0 col10\" >0.443977</td>\n",
       "      <td id=\"T_fe6d4_row0_col11\" class=\"data row0 col11\" >0.454759</td>\n",
       "      <td id=\"T_fe6d4_row0_col12\" class=\"data row0 col12\" >0.473288</td>\n",
       "      <td id=\"T_fe6d4_row0_col13\" class=\"data row0 col13\" >0.474558</td>\n",
       "      <td id=\"T_fe6d4_row0_col14\" class=\"data row0 col14\" >0.487718</td>\n",
       "      <td id=\"T_fe6d4_row0_col15\" class=\"data row0 col15\" >0.490833</td>\n",
       "      <td id=\"T_fe6d4_row0_col16\" class=\"data row0 col16\" >0.502341</td>\n",
       "      <td id=\"T_fe6d4_row0_col17\" class=\"data row0 col17\" >0.501950</td>\n",
       "      <td id=\"T_fe6d4_row0_col18\" class=\"data row0 col18\" >0.518154</td>\n",
       "      <td id=\"T_fe6d4_row0_col19\" class=\"data row0 col19\" >0.527268</td>\n",
       "      <td id=\"T_fe6d4_row0_col20\" class=\"data row0 col20\" >0.523918</td>\n",
       "      <td id=\"T_fe6d4_row0_col21\" class=\"data row0 col21\" >0.533831</td>\n",
       "      <td id=\"T_fe6d4_row0_col22\" class=\"data row0 col22\" >0.549491</td>\n",
       "      <td id=\"T_fe6d4_row0_col23\" class=\"data row0 col23\" >0.553170</td>\n",
       "    </tr>\n",
       "    <tr>\n",
       "      <th id=\"T_fe6d4_level0_row1\" class=\"row_heading level0 row1\" >GMM</th>\n",
       "      <td id=\"T_fe6d4_row1_col0\" class=\"data row1 col0\" >0.385533</td>\n",
       "      <td id=\"T_fe6d4_row1_col1\" class=\"data row1 col1\" >0.380982</td>\n",
       "      <td id=\"T_fe6d4_row1_col2\" class=\"data row1 col2\" >0.389185</td>\n",
       "      <td id=\"T_fe6d4_row1_col3\" class=\"data row1 col3\" >0.403277</td>\n",
       "      <td id=\"T_fe6d4_row1_col4\" class=\"data row1 col4\" >0.336989</td>\n",
       "      <td id=\"T_fe6d4_row1_col5\" class=\"data row1 col5\" >0.334655</td>\n",
       "      <td id=\"T_fe6d4_row1_col6\" class=\"data row1 col6\" >0.239324</td>\n",
       "      <td id=\"T_fe6d4_row1_col7\" class=\"data row1 col7\" >0.261337</td>\n",
       "      <td id=\"T_fe6d4_row1_col8\" class=\"data row1 col8\" >0.298326</td>\n",
       "      <td id=\"T_fe6d4_row1_col9\" class=\"data row1 col9\" >0.277350</td>\n",
       "      <td id=\"T_fe6d4_row1_col10\" class=\"data row1 col10\" >0.303286</td>\n",
       "      <td id=\"T_fe6d4_row1_col11\" class=\"data row1 col11\" >0.274860</td>\n",
       "      <td id=\"T_fe6d4_row1_col12\" class=\"data row1 col12\" >0.278040</td>\n",
       "      <td id=\"T_fe6d4_row1_col13\" class=\"data row1 col13\" >0.398385</td>\n",
       "      <td id=\"T_fe6d4_row1_col14\" class=\"data row1 col14\" >0.403435</td>\n",
       "      <td id=\"T_fe6d4_row1_col15\" class=\"data row1 col15\" >0.398466</td>\n",
       "      <td id=\"T_fe6d4_row1_col16\" class=\"data row1 col16\" >0.404108</td>\n",
       "      <td id=\"T_fe6d4_row1_col17\" class=\"data row1 col17\" >0.405591</td>\n",
       "      <td id=\"T_fe6d4_row1_col18\" class=\"data row1 col18\" >0.409505</td>\n",
       "      <td id=\"T_fe6d4_row1_col19\" class=\"data row1 col19\" >0.412045</td>\n",
       "      <td id=\"T_fe6d4_row1_col20\" class=\"data row1 col20\" >0.445031</td>\n",
       "      <td id=\"T_fe6d4_row1_col21\" class=\"data row1 col21\" >0.432231</td>\n",
       "      <td id=\"T_fe6d4_row1_col22\" class=\"data row1 col22\" >0.435708</td>\n",
       "      <td id=\"T_fe6d4_row1_col23\" class=\"data row1 col23\" >0.490643</td>\n",
       "    </tr>\n",
       "    <tr>\n",
       "      <th id=\"T_fe6d4_level0_row2\" class=\"row_heading level0 row2\" >HClustering</th>\n",
       "      <td id=\"T_fe6d4_row2_col0\" class=\"data row2 col0\" >0.374922</td>\n",
       "      <td id=\"T_fe6d4_row2_col1\" class=\"data row2 col1\" >0.381665</td>\n",
       "      <td id=\"T_fe6d4_row2_col2\" class=\"data row2 col2\" >0.364340</td>\n",
       "      <td id=\"T_fe6d4_row2_col3\" class=\"data row2 col3\" >0.373366</td>\n",
       "      <td id=\"T_fe6d4_row2_col4\" class=\"data row2 col4\" >0.370929</td>\n",
       "      <td id=\"T_fe6d4_row2_col5\" class=\"data row2 col5\" >0.375952</td>\n",
       "      <td id=\"T_fe6d4_row2_col6\" class=\"data row2 col6\" >0.381294</td>\n",
       "      <td id=\"T_fe6d4_row2_col7\" class=\"data row2 col7\" >0.386666</td>\n",
       "      <td id=\"T_fe6d4_row2_col8\" class=\"data row2 col8\" >0.389760</td>\n",
       "      <td id=\"T_fe6d4_row2_col9\" class=\"data row2 col9\" >0.395466</td>\n",
       "      <td id=\"T_fe6d4_row2_col10\" class=\"data row2 col10\" >0.403878</td>\n",
       "      <td id=\"T_fe6d4_row2_col11\" class=\"data row2 col11\" >0.416813</td>\n",
       "      <td id=\"T_fe6d4_row2_col12\" class=\"data row2 col12\" >0.436367</td>\n",
       "      <td id=\"T_fe6d4_row2_col13\" class=\"data row2 col13\" >0.450643</td>\n",
       "      <td id=\"T_fe6d4_row2_col14\" class=\"data row2 col14\" >0.457867</td>\n",
       "      <td id=\"T_fe6d4_row2_col15\" class=\"data row2 col15\" >0.468772</td>\n",
       "      <td id=\"T_fe6d4_row2_col16\" class=\"data row2 col16\" >0.488107</td>\n",
       "      <td id=\"T_fe6d4_row2_col17\" class=\"data row2 col17\" >0.496539</td>\n",
       "      <td id=\"T_fe6d4_row2_col18\" class=\"data row2 col18\" >0.505796</td>\n",
       "      <td id=\"T_fe6d4_row2_col19\" class=\"data row2 col19\" >0.512790</td>\n",
       "      <td id=\"T_fe6d4_row2_col20\" class=\"data row2 col20\" >0.521812</td>\n",
       "      <td id=\"T_fe6d4_row2_col21\" class=\"data row2 col21\" >0.529991</td>\n",
       "      <td id=\"T_fe6d4_row2_col22\" class=\"data row2 col22\" >0.533916</td>\n",
       "      <td id=\"T_fe6d4_row2_col23\" class=\"data row2 col23\" >0.541252</td>\n",
       "    </tr>\n",
       "  </tbody>\n",
       "</table>\n"
      ],
      "text/plain": [
       "<pandas.io.formats.style.Styler at 0x2a0e58421f0>"
      ]
     },
     "execution_count": 59,
     "metadata": {},
     "output_type": "execute_result"
    }
   ],
   "source": [
    "# Tree - Based embedding\n",
    "\n",
    "df_results = pd.DataFrame(\n",
    "    {'KMeans': kmeans_list,\n",
    "    'GMM': gmm_list,\n",
    "    'HClustering': hc_list} ).T\n",
    "\n",
    "df_results.columns = clusters\n",
    "\n",
    "df_results.style.highlight_max( color= 'lightgreen', axis= 1 )"
   ]
  },
  {
   "cell_type": "code",
   "execution_count": 100,
   "id": "0147dfcf",
   "metadata": {
    "ExecuteTime": {
     "end_time": "2023-03-06T11:38:02.238547Z",
     "start_time": "2023-03-06T11:38:02.206721Z"
    },
    "cell_style": "split"
   },
   "outputs": [
    {
     "data": {
      "text/html": [
       "<style type=\"text/css\">\n",
       "#T_b102e_row0_col17, #T_b102e_row1_col15, #T_b102e_row2_col18 {\n",
       "  background-color: lightgreen;\n",
       "}\n",
       "</style>\n",
       "<table id=\"T_b102e\">\n",
       "  <thead>\n",
       "    <tr>\n",
       "      <th class=\"blank level0\" >&nbsp;</th>\n",
       "      <th id=\"T_b102e_level0_col0\" class=\"col_heading level0 col0\" >2</th>\n",
       "      <th id=\"T_b102e_level0_col1\" class=\"col_heading level0 col1\" >3</th>\n",
       "      <th id=\"T_b102e_level0_col2\" class=\"col_heading level0 col2\" >4</th>\n",
       "      <th id=\"T_b102e_level0_col3\" class=\"col_heading level0 col3\" >5</th>\n",
       "      <th id=\"T_b102e_level0_col4\" class=\"col_heading level0 col4\" >6</th>\n",
       "      <th id=\"T_b102e_level0_col5\" class=\"col_heading level0 col5\" >7</th>\n",
       "      <th id=\"T_b102e_level0_col6\" class=\"col_heading level0 col6\" >8</th>\n",
       "      <th id=\"T_b102e_level0_col7\" class=\"col_heading level0 col7\" >9</th>\n",
       "      <th id=\"T_b102e_level0_col8\" class=\"col_heading level0 col8\" >10</th>\n",
       "      <th id=\"T_b102e_level0_col9\" class=\"col_heading level0 col9\" >11</th>\n",
       "      <th id=\"T_b102e_level0_col10\" class=\"col_heading level0 col10\" >12</th>\n",
       "      <th id=\"T_b102e_level0_col11\" class=\"col_heading level0 col11\" >13</th>\n",
       "      <th id=\"T_b102e_level0_col12\" class=\"col_heading level0 col12\" >14</th>\n",
       "      <th id=\"T_b102e_level0_col13\" class=\"col_heading level0 col13\" >15</th>\n",
       "      <th id=\"T_b102e_level0_col14\" class=\"col_heading level0 col14\" >16</th>\n",
       "      <th id=\"T_b102e_level0_col15\" class=\"col_heading level0 col15\" >17</th>\n",
       "      <th id=\"T_b102e_level0_col16\" class=\"col_heading level0 col16\" >18</th>\n",
       "      <th id=\"T_b102e_level0_col17\" class=\"col_heading level0 col17\" >19</th>\n",
       "      <th id=\"T_b102e_level0_col18\" class=\"col_heading level0 col18\" >20</th>\n",
       "      <th id=\"T_b102e_level0_col19\" class=\"col_heading level0 col19\" >21</th>\n",
       "      <th id=\"T_b102e_level0_col20\" class=\"col_heading level0 col20\" >22</th>\n",
       "      <th id=\"T_b102e_level0_col21\" class=\"col_heading level0 col21\" >23</th>\n",
       "      <th id=\"T_b102e_level0_col22\" class=\"col_heading level0 col22\" >24</th>\n",
       "      <th id=\"T_b102e_level0_col23\" class=\"col_heading level0 col23\" >25</th>\n",
       "    </tr>\n",
       "  </thead>\n",
       "  <tbody>\n",
       "    <tr>\n",
       "      <th id=\"T_b102e_level0_row0\" class=\"row_heading level0 row0\" >KMeans</th>\n",
       "      <td id=\"T_b102e_row0_col0\" class=\"data row0 col0\" >0.411099</td>\n",
       "      <td id=\"T_b102e_row0_col1\" class=\"data row0 col1\" >0.464726</td>\n",
       "      <td id=\"T_b102e_row0_col2\" class=\"data row0 col2\" >0.460359</td>\n",
       "      <td id=\"T_b102e_row0_col3\" class=\"data row0 col3\" >0.459675</td>\n",
       "      <td id=\"T_b102e_row0_col4\" class=\"data row0 col4\" >0.474745</td>\n",
       "      <td id=\"T_b102e_row0_col5\" class=\"data row0 col5\" >0.478638</td>\n",
       "      <td id=\"T_b102e_row0_col6\" class=\"data row0 col6\" >0.504225</td>\n",
       "      <td id=\"T_b102e_row0_col7\" class=\"data row0 col7\" >0.497027</td>\n",
       "      <td id=\"T_b102e_row0_col8\" class=\"data row0 col8\" >0.507949</td>\n",
       "      <td id=\"T_b102e_row0_col9\" class=\"data row0 col9\" >0.518333</td>\n",
       "      <td id=\"T_b102e_row0_col10\" class=\"data row0 col10\" >0.520799</td>\n",
       "      <td id=\"T_b102e_row0_col11\" class=\"data row0 col11\" >0.550723</td>\n",
       "      <td id=\"T_b102e_row0_col12\" class=\"data row0 col12\" >0.555278</td>\n",
       "      <td id=\"T_b102e_row0_col13\" class=\"data row0 col13\" >0.549071</td>\n",
       "      <td id=\"T_b102e_row0_col14\" class=\"data row0 col14\" >0.547523</td>\n",
       "      <td id=\"T_b102e_row0_col15\" class=\"data row0 col15\" >0.555459</td>\n",
       "      <td id=\"T_b102e_row0_col16\" class=\"data row0 col16\" >0.558763</td>\n",
       "      <td id=\"T_b102e_row0_col17\" class=\"data row0 col17\" >0.567783</td>\n",
       "      <td id=\"T_b102e_row0_col18\" class=\"data row0 col18\" >0.559889</td>\n",
       "      <td id=\"T_b102e_row0_col19\" class=\"data row0 col19\" >0.554924</td>\n",
       "      <td id=\"T_b102e_row0_col20\" class=\"data row0 col20\" >0.557281</td>\n",
       "      <td id=\"T_b102e_row0_col21\" class=\"data row0 col21\" >0.552998</td>\n",
       "      <td id=\"T_b102e_row0_col22\" class=\"data row0 col22\" >0.546107</td>\n",
       "      <td id=\"T_b102e_row0_col23\" class=\"data row0 col23\" >0.557597</td>\n",
       "    </tr>\n",
       "    <tr>\n",
       "      <th id=\"T_b102e_level0_row1\" class=\"row_heading level0 row1\" >GMM</th>\n",
       "      <td id=\"T_b102e_row1_col0\" class=\"data row1 col0\" >0.389385</td>\n",
       "      <td id=\"T_b102e_row1_col1\" class=\"data row1 col1\" >0.462606</td>\n",
       "      <td id=\"T_b102e_row1_col2\" class=\"data row1 col2\" >0.450233</td>\n",
       "      <td id=\"T_b102e_row1_col3\" class=\"data row1 col3\" >0.384169</td>\n",
       "      <td id=\"T_b102e_row1_col4\" class=\"data row1 col4\" >0.314850</td>\n",
       "      <td id=\"T_b102e_row1_col5\" class=\"data row1 col5\" >0.363190</td>\n",
       "      <td id=\"T_b102e_row1_col6\" class=\"data row1 col6\" >0.361167</td>\n",
       "      <td id=\"T_b102e_row1_col7\" class=\"data row1 col7\" >0.342682</td>\n",
       "      <td id=\"T_b102e_row1_col8\" class=\"data row1 col8\" >0.396124</td>\n",
       "      <td id=\"T_b102e_row1_col9\" class=\"data row1 col9\" >0.475885</td>\n",
       "      <td id=\"T_b102e_row1_col10\" class=\"data row1 col10\" >0.500778</td>\n",
       "      <td id=\"T_b102e_row1_col11\" class=\"data row1 col11\" >0.506266</td>\n",
       "      <td id=\"T_b102e_row1_col12\" class=\"data row1 col12\" >0.520225</td>\n",
       "      <td id=\"T_b102e_row1_col13\" class=\"data row1 col13\" >0.501262</td>\n",
       "      <td id=\"T_b102e_row1_col14\" class=\"data row1 col14\" >0.531825</td>\n",
       "      <td id=\"T_b102e_row1_col15\" class=\"data row1 col15\" >0.551090</td>\n",
       "      <td id=\"T_b102e_row1_col16\" class=\"data row1 col16\" >0.539685</td>\n",
       "      <td id=\"T_b102e_row1_col17\" class=\"data row1 col17\" >0.521539</td>\n",
       "      <td id=\"T_b102e_row1_col18\" class=\"data row1 col18\" >0.544198</td>\n",
       "      <td id=\"T_b102e_row1_col19\" class=\"data row1 col19\" >0.548517</td>\n",
       "      <td id=\"T_b102e_row1_col20\" class=\"data row1 col20\" >0.526972</td>\n",
       "      <td id=\"T_b102e_row1_col21\" class=\"data row1 col21\" >0.528342</td>\n",
       "      <td id=\"T_b102e_row1_col22\" class=\"data row1 col22\" >0.515386</td>\n",
       "      <td id=\"T_b102e_row1_col23\" class=\"data row1 col23\" >0.528937</td>\n",
       "    </tr>\n",
       "    <tr>\n",
       "      <th id=\"T_b102e_level0_row2\" class=\"row_heading level0 row2\" >HClustering</th>\n",
       "      <td id=\"T_b102e_row2_col0\" class=\"data row2 col0\" >0.381533</td>\n",
       "      <td id=\"T_b102e_row2_col1\" class=\"data row2 col1\" >0.412168</td>\n",
       "      <td id=\"T_b102e_row2_col2\" class=\"data row2 col2\" >0.460968</td>\n",
       "      <td id=\"T_b102e_row2_col3\" class=\"data row2 col3\" >0.463424</td>\n",
       "      <td id=\"T_b102e_row2_col4\" class=\"data row2 col4\" >0.467856</td>\n",
       "      <td id=\"T_b102e_row2_col5\" class=\"data row2 col5\" >0.471071</td>\n",
       "      <td id=\"T_b102e_row2_col6\" class=\"data row2 col6\" >0.480381</td>\n",
       "      <td id=\"T_b102e_row2_col7\" class=\"data row2 col7\" >0.503561</td>\n",
       "      <td id=\"T_b102e_row2_col8\" class=\"data row2 col8\" >0.495211</td>\n",
       "      <td id=\"T_b102e_row2_col9\" class=\"data row2 col9\" >0.507972</td>\n",
       "      <td id=\"T_b102e_row2_col10\" class=\"data row2 col10\" >0.517338</td>\n",
       "      <td id=\"T_b102e_row2_col11\" class=\"data row2 col11\" >0.547291</td>\n",
       "      <td id=\"T_b102e_row2_col12\" class=\"data row2 col12\" >0.549900</td>\n",
       "      <td id=\"T_b102e_row2_col13\" class=\"data row2 col13\" >0.552310</td>\n",
       "      <td id=\"T_b102e_row2_col14\" class=\"data row2 col14\" >0.544955</td>\n",
       "      <td id=\"T_b102e_row2_col15\" class=\"data row2 col15\" >0.552138</td>\n",
       "      <td id=\"T_b102e_row2_col16\" class=\"data row2 col16\" >0.553573</td>\n",
       "      <td id=\"T_b102e_row2_col17\" class=\"data row2 col17\" >0.562335</td>\n",
       "      <td id=\"T_b102e_row2_col18\" class=\"data row2 col18\" >0.567697</td>\n",
       "      <td id=\"T_b102e_row2_col19\" class=\"data row2 col19\" >0.557116</td>\n",
       "      <td id=\"T_b102e_row2_col20\" class=\"data row2 col20\" >0.562039</td>\n",
       "      <td id=\"T_b102e_row2_col21\" class=\"data row2 col21\" >0.554596</td>\n",
       "      <td id=\"T_b102e_row2_col22\" class=\"data row2 col22\" >0.553991</td>\n",
       "      <td id=\"T_b102e_row2_col23\" class=\"data row2 col23\" >0.541530</td>\n",
       "    </tr>\n",
       "  </tbody>\n",
       "</table>\n"
      ],
      "text/plain": [
       "<pandas.io.formats.style.Styler at 0x2a0e75bf6a0>"
      ]
     },
     "execution_count": 100,
     "metadata": {},
     "output_type": "execute_result"
    }
   ],
   "source": [
    "# UMAP embedding\n",
    "\n",
    "df_results = pd.DataFrame(\n",
    "    {'KMeans': kmeans_list,\n",
    "    'GMM': gmm_list,\n",
    "    'HClustering': hc_list} ).T\n",
    "\n",
    "df_results.columns = clusters\n",
    "\n",
    "df_results.style.highlight_max( color= 'lightgreen', axis= 1 )"
   ]
  },
  {
   "cell_type": "code",
   "execution_count": 85,
   "id": "62e90afd",
   "metadata": {
    "ExecuteTime": {
     "end_time": "2023-03-06T11:18:05.983049Z",
     "start_time": "2023-03-06T11:18:05.954124Z"
    },
    "cell_style": "split"
   },
   "outputs": [
    {
     "data": {
      "text/html": [
       "<style type=\"text/css\">\n",
       "#T_a7077_row0_col23, #T_a7077_row1_col23, #T_a7077_row2_col23 {\n",
       "  background-color: lightgreen;\n",
       "}\n",
       "</style>\n",
       "<table id=\"T_a7077\">\n",
       "  <thead>\n",
       "    <tr>\n",
       "      <th class=\"blank level0\" >&nbsp;</th>\n",
       "      <th id=\"T_a7077_level0_col0\" class=\"col_heading level0 col0\" >2</th>\n",
       "      <th id=\"T_a7077_level0_col1\" class=\"col_heading level0 col1\" >3</th>\n",
       "      <th id=\"T_a7077_level0_col2\" class=\"col_heading level0 col2\" >4</th>\n",
       "      <th id=\"T_a7077_level0_col3\" class=\"col_heading level0 col3\" >5</th>\n",
       "      <th id=\"T_a7077_level0_col4\" class=\"col_heading level0 col4\" >6</th>\n",
       "      <th id=\"T_a7077_level0_col5\" class=\"col_heading level0 col5\" >7</th>\n",
       "      <th id=\"T_a7077_level0_col6\" class=\"col_heading level0 col6\" >8</th>\n",
       "      <th id=\"T_a7077_level0_col7\" class=\"col_heading level0 col7\" >9</th>\n",
       "      <th id=\"T_a7077_level0_col8\" class=\"col_heading level0 col8\" >10</th>\n",
       "      <th id=\"T_a7077_level0_col9\" class=\"col_heading level0 col9\" >11</th>\n",
       "      <th id=\"T_a7077_level0_col10\" class=\"col_heading level0 col10\" >12</th>\n",
       "      <th id=\"T_a7077_level0_col11\" class=\"col_heading level0 col11\" >13</th>\n",
       "      <th id=\"T_a7077_level0_col12\" class=\"col_heading level0 col12\" >14</th>\n",
       "      <th id=\"T_a7077_level0_col13\" class=\"col_heading level0 col13\" >15</th>\n",
       "      <th id=\"T_a7077_level0_col14\" class=\"col_heading level0 col14\" >16</th>\n",
       "      <th id=\"T_a7077_level0_col15\" class=\"col_heading level0 col15\" >17</th>\n",
       "      <th id=\"T_a7077_level0_col16\" class=\"col_heading level0 col16\" >18</th>\n",
       "      <th id=\"T_a7077_level0_col17\" class=\"col_heading level0 col17\" >19</th>\n",
       "      <th id=\"T_a7077_level0_col18\" class=\"col_heading level0 col18\" >20</th>\n",
       "      <th id=\"T_a7077_level0_col19\" class=\"col_heading level0 col19\" >21</th>\n",
       "      <th id=\"T_a7077_level0_col20\" class=\"col_heading level0 col20\" >22</th>\n",
       "      <th id=\"T_a7077_level0_col21\" class=\"col_heading level0 col21\" >23</th>\n",
       "      <th id=\"T_a7077_level0_col22\" class=\"col_heading level0 col22\" >24</th>\n",
       "      <th id=\"T_a7077_level0_col23\" class=\"col_heading level0 col23\" >25</th>\n",
       "    </tr>\n",
       "  </thead>\n",
       "  <tbody>\n",
       "    <tr>\n",
       "      <th id=\"T_a7077_level0_row0\" class=\"row_heading level0 row0\" >KMeans</th>\n",
       "      <td id=\"T_a7077_row0_col0\" class=\"data row0 col0\" >0.352330</td>\n",
       "      <td id=\"T_a7077_row0_col1\" class=\"data row0 col1\" >0.392118</td>\n",
       "      <td id=\"T_a7077_row0_col2\" class=\"data row0 col2\" >0.410423</td>\n",
       "      <td id=\"T_a7077_row0_col3\" class=\"data row0 col3\" >0.403035</td>\n",
       "      <td id=\"T_a7077_row0_col4\" class=\"data row0 col4\" >0.418538</td>\n",
       "      <td id=\"T_a7077_row0_col5\" class=\"data row0 col5\" >0.422014</td>\n",
       "      <td id=\"T_a7077_row0_col6\" class=\"data row0 col6\" >0.426572</td>\n",
       "      <td id=\"T_a7077_row0_col7\" class=\"data row0 col7\" >0.431586</td>\n",
       "      <td id=\"T_a7077_row0_col8\" class=\"data row0 col8\" >0.435886</td>\n",
       "      <td id=\"T_a7077_row0_col9\" class=\"data row0 col9\" >0.440753</td>\n",
       "      <td id=\"T_a7077_row0_col10\" class=\"data row0 col10\" >0.443725</td>\n",
       "      <td id=\"T_a7077_row0_col11\" class=\"data row0 col11\" >0.441349</td>\n",
       "      <td id=\"T_a7077_row0_col12\" class=\"data row0 col12\" >0.439670</td>\n",
       "      <td id=\"T_a7077_row0_col13\" class=\"data row0 col13\" >0.448245</td>\n",
       "      <td id=\"T_a7077_row0_col14\" class=\"data row0 col14\" >0.450222</td>\n",
       "      <td id=\"T_a7077_row0_col15\" class=\"data row0 col15\" >0.459809</td>\n",
       "      <td id=\"T_a7077_row0_col16\" class=\"data row0 col16\" >0.461216</td>\n",
       "      <td id=\"T_a7077_row0_col17\" class=\"data row0 col17\" >0.471261</td>\n",
       "      <td id=\"T_a7077_row0_col18\" class=\"data row0 col18\" >0.476635</td>\n",
       "      <td id=\"T_a7077_row0_col19\" class=\"data row0 col19\" >0.482214</td>\n",
       "      <td id=\"T_a7077_row0_col20\" class=\"data row0 col20\" >0.487765</td>\n",
       "      <td id=\"T_a7077_row0_col21\" class=\"data row0 col21\" >0.490352</td>\n",
       "      <td id=\"T_a7077_row0_col22\" class=\"data row0 col22\" >0.490327</td>\n",
       "      <td id=\"T_a7077_row0_col23\" class=\"data row0 col23\" >0.492015</td>\n",
       "    </tr>\n",
       "    <tr>\n",
       "      <th id=\"T_a7077_level0_row1\" class=\"row_heading level0 row1\" >GMM</th>\n",
       "      <td id=\"T_a7077_row1_col0\" class=\"data row1 col0\" >0.351366</td>\n",
       "      <td id=\"T_a7077_row1_col1\" class=\"data row1 col1\" >0.369439</td>\n",
       "      <td id=\"T_a7077_row1_col2\" class=\"data row1 col2\" >0.379573</td>\n",
       "      <td id=\"T_a7077_row1_col3\" class=\"data row1 col3\" >0.380591</td>\n",
       "      <td id=\"T_a7077_row1_col4\" class=\"data row1 col4\" >0.390856</td>\n",
       "      <td id=\"T_a7077_row1_col5\" class=\"data row1 col5\" >0.368622</td>\n",
       "      <td id=\"T_a7077_row1_col6\" class=\"data row1 col6\" >0.365697</td>\n",
       "      <td id=\"T_a7077_row1_col7\" class=\"data row1 col7\" >0.358761</td>\n",
       "      <td id=\"T_a7077_row1_col8\" class=\"data row1 col8\" >0.323049</td>\n",
       "      <td id=\"T_a7077_row1_col9\" class=\"data row1 col9\" >0.306191</td>\n",
       "      <td id=\"T_a7077_row1_col10\" class=\"data row1 col10\" >0.345651</td>\n",
       "      <td id=\"T_a7077_row1_col11\" class=\"data row1 col11\" >0.343361</td>\n",
       "      <td id=\"T_a7077_row1_col12\" class=\"data row1 col12\" >0.393718</td>\n",
       "      <td id=\"T_a7077_row1_col13\" class=\"data row1 col13\" >0.290089</td>\n",
       "      <td id=\"T_a7077_row1_col14\" class=\"data row1 col14\" >0.380735</td>\n",
       "      <td id=\"T_a7077_row1_col15\" class=\"data row1 col15\" >0.393905</td>\n",
       "      <td id=\"T_a7077_row1_col16\" class=\"data row1 col16\" >0.346258</td>\n",
       "      <td id=\"T_a7077_row1_col17\" class=\"data row1 col17\" >0.406758</td>\n",
       "      <td id=\"T_a7077_row1_col18\" class=\"data row1 col18\" >0.418003</td>\n",
       "      <td id=\"T_a7077_row1_col19\" class=\"data row1 col19\" >0.416897</td>\n",
       "      <td id=\"T_a7077_row1_col20\" class=\"data row1 col20\" >0.413690</td>\n",
       "      <td id=\"T_a7077_row1_col21\" class=\"data row1 col21\" >0.399183</td>\n",
       "      <td id=\"T_a7077_row1_col22\" class=\"data row1 col22\" >0.381622</td>\n",
       "      <td id=\"T_a7077_row1_col23\" class=\"data row1 col23\" >0.422165</td>\n",
       "    </tr>\n",
       "    <tr>\n",
       "      <th id=\"T_a7077_level0_row2\" class=\"row_heading level0 row2\" >HClustering</th>\n",
       "      <td id=\"T_a7077_row2_col0\" class=\"data row2 col0\" >0.337570</td>\n",
       "      <td id=\"T_a7077_row2_col1\" class=\"data row2 col1\" >0.364586</td>\n",
       "      <td id=\"T_a7077_row2_col2\" class=\"data row2 col2\" >0.373409</td>\n",
       "      <td id=\"T_a7077_row2_col3\" class=\"data row2 col3\" >0.355816</td>\n",
       "      <td id=\"T_a7077_row2_col4\" class=\"data row2 col4\" >0.382383</td>\n",
       "      <td id=\"T_a7077_row2_col5\" class=\"data row2 col5\" >0.393440</td>\n",
       "      <td id=\"T_a7077_row2_col6\" class=\"data row2 col6\" >0.383984</td>\n",
       "      <td id=\"T_a7077_row2_col7\" class=\"data row2 col7\" >0.398829</td>\n",
       "      <td id=\"T_a7077_row2_col8\" class=\"data row2 col8\" >0.403318</td>\n",
       "      <td id=\"T_a7077_row2_col9\" class=\"data row2 col9\" >0.404398</td>\n",
       "      <td id=\"T_a7077_row2_col10\" class=\"data row2 col10\" >0.400456</td>\n",
       "      <td id=\"T_a7077_row2_col11\" class=\"data row2 col11\" >0.408349</td>\n",
       "      <td id=\"T_a7077_row2_col12\" class=\"data row2 col12\" >0.404066</td>\n",
       "      <td id=\"T_a7077_row2_col13\" class=\"data row2 col13\" >0.417535</td>\n",
       "      <td id=\"T_a7077_row2_col14\" class=\"data row2 col14\" >0.420815</td>\n",
       "      <td id=\"T_a7077_row2_col15\" class=\"data row2 col15\" >0.414189</td>\n",
       "      <td id=\"T_a7077_row2_col16\" class=\"data row2 col16\" >0.415870</td>\n",
       "      <td id=\"T_a7077_row2_col17\" class=\"data row2 col17\" >0.419461</td>\n",
       "      <td id=\"T_a7077_row2_col18\" class=\"data row2 col18\" >0.428025</td>\n",
       "      <td id=\"T_a7077_row2_col19\" class=\"data row2 col19\" >0.435297</td>\n",
       "      <td id=\"T_a7077_row2_col20\" class=\"data row2 col20\" >0.445389</td>\n",
       "      <td id=\"T_a7077_row2_col21\" class=\"data row2 col21\" >0.457294</td>\n",
       "      <td id=\"T_a7077_row2_col22\" class=\"data row2 col22\" >0.462494</td>\n",
       "      <td id=\"T_a7077_row2_col23\" class=\"data row2 col23\" >0.469682</td>\n",
       "    </tr>\n",
       "  </tbody>\n",
       "</table>\n"
      ],
      "text/plain": [
       "<pandas.io.formats.style.Styler at 0x2a0e751b0a0>"
      ]
     },
     "execution_count": 85,
     "metadata": {},
     "output_type": "execute_result"
    }
   ],
   "source": [
    "# TSNE embedding\n",
    "\n",
    "df_results = pd.DataFrame(\n",
    "    {'KMeans': kmeans_list,\n",
    "    'GMM': gmm_list,\n",
    "    'HClustering': hc_list} ).T\n",
    "\n",
    "df_results.columns = clusters\n",
    "\n",
    "df_results.style.highlight_max( color= 'lightgreen', axis= 1 )"
   ]
  },
  {
   "cell_type": "code",
   "execution_count": 178,
   "id": "361251d8",
   "metadata": {
    "ExecuteTime": {
     "end_time": "2023-03-06T15:39:37.394592Z",
     "start_time": "2023-03-06T15:39:37.370656Z"
    },
    "cell_style": "split"
   },
   "outputs": [
    {
     "data": {
      "text/html": [
       "<style type=\"text/css\">\n",
       "#T_15905_row0_col18, #T_15905_row1_col18, #T_15905_row2_col18 {\n",
       "  background-color: lightgreen;\n",
       "}\n",
       "</style>\n",
       "<table id=\"T_15905\">\n",
       "  <thead>\n",
       "    <tr>\n",
       "      <th class=\"blank level0\" >&nbsp;</th>\n",
       "      <th id=\"T_15905_level0_col0\" class=\"col_heading level0 col0\" >2</th>\n",
       "      <th id=\"T_15905_level0_col1\" class=\"col_heading level0 col1\" >3</th>\n",
       "      <th id=\"T_15905_level0_col2\" class=\"col_heading level0 col2\" >4</th>\n",
       "      <th id=\"T_15905_level0_col3\" class=\"col_heading level0 col3\" >5</th>\n",
       "      <th id=\"T_15905_level0_col4\" class=\"col_heading level0 col4\" >6</th>\n",
       "      <th id=\"T_15905_level0_col5\" class=\"col_heading level0 col5\" >7</th>\n",
       "      <th id=\"T_15905_level0_col6\" class=\"col_heading level0 col6\" >8</th>\n",
       "      <th id=\"T_15905_level0_col7\" class=\"col_heading level0 col7\" >9</th>\n",
       "      <th id=\"T_15905_level0_col8\" class=\"col_heading level0 col8\" >10</th>\n",
       "      <th id=\"T_15905_level0_col9\" class=\"col_heading level0 col9\" >11</th>\n",
       "      <th id=\"T_15905_level0_col10\" class=\"col_heading level0 col10\" >12</th>\n",
       "      <th id=\"T_15905_level0_col11\" class=\"col_heading level0 col11\" >13</th>\n",
       "      <th id=\"T_15905_level0_col12\" class=\"col_heading level0 col12\" >14</th>\n",
       "      <th id=\"T_15905_level0_col13\" class=\"col_heading level0 col13\" >15</th>\n",
       "      <th id=\"T_15905_level0_col14\" class=\"col_heading level0 col14\" >16</th>\n",
       "      <th id=\"T_15905_level0_col15\" class=\"col_heading level0 col15\" >17</th>\n",
       "      <th id=\"T_15905_level0_col16\" class=\"col_heading level0 col16\" >18</th>\n",
       "      <th id=\"T_15905_level0_col17\" class=\"col_heading level0 col17\" >19</th>\n",
       "      <th id=\"T_15905_level0_col18\" class=\"col_heading level0 col18\" >20</th>\n",
       "    </tr>\n",
       "  </thead>\n",
       "  <tbody>\n",
       "    <tr>\n",
       "      <th id=\"T_15905_level0_row0\" class=\"row_heading level0 row0\" >KMeans</th>\n",
       "      <td id=\"T_15905_row0_col0\" class=\"data row0 col0\" >0.316464</td>\n",
       "      <td id=\"T_15905_row0_col1\" class=\"data row0 col1\" >0.336412</td>\n",
       "      <td id=\"T_15905_row0_col2\" class=\"data row0 col2\" >0.363728</td>\n",
       "      <td id=\"T_15905_row0_col3\" class=\"data row0 col3\" >0.369671</td>\n",
       "      <td id=\"T_15905_row0_col4\" class=\"data row0 col4\" >0.399742</td>\n",
       "      <td id=\"T_15905_row0_col5\" class=\"data row0 col5\" >0.419213</td>\n",
       "      <td id=\"T_15905_row0_col6\" class=\"data row0 col6\" >0.415387</td>\n",
       "      <td id=\"T_15905_row0_col7\" class=\"data row0 col7\" >0.432743</td>\n",
       "      <td id=\"T_15905_row0_col8\" class=\"data row0 col8\" >0.451300</td>\n",
       "      <td id=\"T_15905_row0_col9\" class=\"data row0 col9\" >0.477916</td>\n",
       "      <td id=\"T_15905_row0_col10\" class=\"data row0 col10\" >0.499261</td>\n",
       "      <td id=\"T_15905_row0_col11\" class=\"data row0 col11\" >0.513788</td>\n",
       "      <td id=\"T_15905_row0_col12\" class=\"data row0 col12\" >0.528031</td>\n",
       "      <td id=\"T_15905_row0_col13\" class=\"data row0 col13\" >0.533045</td>\n",
       "      <td id=\"T_15905_row0_col14\" class=\"data row0 col14\" >0.539629</td>\n",
       "      <td id=\"T_15905_row0_col15\" class=\"data row0 col15\" >0.536589</td>\n",
       "      <td id=\"T_15905_row0_col16\" class=\"data row0 col16\" >0.554545</td>\n",
       "      <td id=\"T_15905_row0_col17\" class=\"data row0 col17\" >0.553723</td>\n",
       "      <td id=\"T_15905_row0_col18\" class=\"data row0 col18\" >0.572645</td>\n",
       "    </tr>\n",
       "    <tr>\n",
       "      <th id=\"T_15905_level0_row1\" class=\"row_heading level0 row1\" >GMM</th>\n",
       "      <td id=\"T_15905_row1_col0\" class=\"data row1 col0\" >0.247848</td>\n",
       "      <td id=\"T_15905_row1_col1\" class=\"data row1 col1\" >0.283851</td>\n",
       "      <td id=\"T_15905_row1_col2\" class=\"data row1 col2\" >0.291649</td>\n",
       "      <td id=\"T_15905_row1_col3\" class=\"data row1 col3\" >0.305659</td>\n",
       "      <td id=\"T_15905_row1_col4\" class=\"data row1 col4\" >0.340148</td>\n",
       "      <td id=\"T_15905_row1_col5\" class=\"data row1 col5\" >0.304175</td>\n",
       "      <td id=\"T_15905_row1_col6\" class=\"data row1 col6\" >0.336841</td>\n",
       "      <td id=\"T_15905_row1_col7\" class=\"data row1 col7\" >0.334583</td>\n",
       "      <td id=\"T_15905_row1_col8\" class=\"data row1 col8\" >0.416321</td>\n",
       "      <td id=\"T_15905_row1_col9\" class=\"data row1 col9\" >0.369312</td>\n",
       "      <td id=\"T_15905_row1_col10\" class=\"data row1 col10\" >0.454723</td>\n",
       "      <td id=\"T_15905_row1_col11\" class=\"data row1 col11\" >0.429317</td>\n",
       "      <td id=\"T_15905_row1_col12\" class=\"data row1 col12\" >0.476271</td>\n",
       "      <td id=\"T_15905_row1_col13\" class=\"data row1 col13\" >0.490509</td>\n",
       "      <td id=\"T_15905_row1_col14\" class=\"data row1 col14\" >0.491050</td>\n",
       "      <td id=\"T_15905_row1_col15\" class=\"data row1 col15\" >0.502672</td>\n",
       "      <td id=\"T_15905_row1_col16\" class=\"data row1 col16\" >0.523448</td>\n",
       "      <td id=\"T_15905_row1_col17\" class=\"data row1 col17\" >0.514577</td>\n",
       "      <td id=\"T_15905_row1_col18\" class=\"data row1 col18\" >0.541974</td>\n",
       "    </tr>\n",
       "    <tr>\n",
       "      <th id=\"T_15905_level0_row2\" class=\"row_heading level0 row2\" >HClustering</th>\n",
       "      <td id=\"T_15905_row2_col0\" class=\"data row2 col0\" >0.299830</td>\n",
       "      <td id=\"T_15905_row2_col1\" class=\"data row2 col1\" >0.284015</td>\n",
       "      <td id=\"T_15905_row2_col2\" class=\"data row2 col2\" >0.324404</td>\n",
       "      <td id=\"T_15905_row2_col3\" class=\"data row2 col3\" >0.363359</td>\n",
       "      <td id=\"T_15905_row2_col4\" class=\"data row2 col4\" >0.360318</td>\n",
       "      <td id=\"T_15905_row2_col5\" class=\"data row2 col5\" >0.385022</td>\n",
       "      <td id=\"T_15905_row2_col6\" class=\"data row2 col6\" >0.389408</td>\n",
       "      <td id=\"T_15905_row2_col7\" class=\"data row2 col7\" >0.410715</td>\n",
       "      <td id=\"T_15905_row2_col8\" class=\"data row2 col8\" >0.431139</td>\n",
       "      <td id=\"T_15905_row2_col9\" class=\"data row2 col9\" >0.455498</td>\n",
       "      <td id=\"T_15905_row2_col10\" class=\"data row2 col10\" >0.480851</td>\n",
       "      <td id=\"T_15905_row2_col11\" class=\"data row2 col11\" >0.507750</td>\n",
       "      <td id=\"T_15905_row2_col12\" class=\"data row2 col12\" >0.514232</td>\n",
       "      <td id=\"T_15905_row2_col13\" class=\"data row2 col13\" >0.530594</td>\n",
       "      <td id=\"T_15905_row2_col14\" class=\"data row2 col14\" >0.537671</td>\n",
       "      <td id=\"T_15905_row2_col15\" class=\"data row2 col15\" >0.547126</td>\n",
       "      <td id=\"T_15905_row2_col16\" class=\"data row2 col16\" >0.558933</td>\n",
       "      <td id=\"T_15905_row2_col17\" class=\"data row2 col17\" >0.555718</td>\n",
       "      <td id=\"T_15905_row2_col18\" class=\"data row2 col18\" >0.565713</td>\n",
       "    </tr>\n",
       "  </tbody>\n",
       "</table>\n"
      ],
      "text/plain": [
       "<pandas.io.formats.style.Styler at 0x2a0cf6ab8e0>"
      ]
     },
     "execution_count": 178,
     "metadata": {},
     "output_type": "execute_result"
    }
   ],
   "source": [
    "# Tree - Based embedding 3d\n",
    "\n",
    "df_results = pd.DataFrame(\n",
    "    {'KMeans': kmeans_list,\n",
    "    'GMM': gmm_list,\n",
    "    'HClustering': hc_list} ).T\n",
    "\n",
    "df_results.columns = clusters\n",
    "\n",
    "df_results.style.highlight_max( color= 'lightgreen', axis= 1 )"
   ]
  },
  {
   "cell_type": "markdown",
   "id": "05848248",
   "metadata": {},
   "source": [
    "# 8.0. MODEL TRAINING"
   ]
  },
  {
   "cell_type": "markdown",
   "id": "223aaf44",
   "metadata": {},
   "source": [
    "## 8.1. Model Final"
   ]
  },
  {
   "cell_type": "markdown",
   "id": "d633b717",
   "metadata": {
    "heading_collapsed": true
   },
   "source": [
    "### 8.1.1 KMeans"
   ]
  },
  {
   "cell_type": "code",
   "execution_count": 101,
   "id": "0572dd4f",
   "metadata": {
    "ExecuteTime": {
     "end_time": "2023-03-06T11:38:27.898226Z",
     "start_time": "2023-03-06T11:38:27.423904Z"
    },
    "hidden": true
   },
   "outputs": [],
   "source": [
    "# model definition\n",
    "k = 8\n",
    "kmeans = c.KMeans( init='random', n_clusters=k, n_init=100, max_iter=300, random_state= 42)\n",
    "\n",
    "# model training\n",
    "kmeans.fit( X )\n",
    "\n",
    "# clustering\n",
    "labels_kmeans = kmeans.labels_"
   ]
  },
  {
   "cell_type": "code",
   "execution_count": 102,
   "id": "7e3d9d44",
   "metadata": {
    "ExecuteTime": {
     "end_time": "2023-03-06T11:38:28.800598Z",
     "start_time": "2023-03-06T11:38:27.971031Z"
    },
    "hidden": true
   },
   "outputs": [
    {
     "name": "stdout",
     "output_type": "stream",
     "text": [
      "WSS Value: 80667.7578125\n",
      "SS Value: 0.4578169584274292\n"
     ]
    }
   ],
   "source": [
    "# WSS\n",
    "print(f'WSS Value: {kmeans.inertia_}')\n",
    "\n",
    "# SS\n",
    "print(f'SS Value: { mt.silhouette_score( X, labels_kmeans, metric= \"euclidean\" ) }' )"
   ]
  },
  {
   "cell_type": "markdown",
   "id": "68c9b142",
   "metadata": {},
   "source": [
    "# 9.0. CLUSTER ANALYSIS"
   ]
  },
  {
   "cell_type": "code",
   "execution_count": 108,
   "id": "28ab6ac8",
   "metadata": {
    "ExecuteTime": {
     "end_time": "2023-03-06T11:43:19.296331Z",
     "start_time": "2023-03-06T11:43:19.269445Z"
    }
   },
   "outputs": [
    {
     "data": {
      "text/html": [
       "<div>\n",
       "<style scoped>\n",
       "    .dataframe tbody tr th:only-of-type {\n",
       "        vertical-align: middle;\n",
       "    }\n",
       "\n",
       "    .dataframe tbody tr th {\n",
       "        vertical-align: top;\n",
       "    }\n",
       "\n",
       "    .dataframe thead th {\n",
       "        text-align: right;\n",
       "    }\n",
       "</style>\n",
       "<table border=\"1\" class=\"dataframe\">\n",
       "  <thead>\n",
       "    <tr style=\"text-align: right;\">\n",
       "      <th></th>\n",
       "      <th>customer_id</th>\n",
       "      <th>gross_revenue</th>\n",
       "      <th>recency_days</th>\n",
       "      <th>qty_products</th>\n",
       "      <th>frequency</th>\n",
       "      <th>qty_returns</th>\n",
       "      <th>cluster</th>\n",
       "    </tr>\n",
       "  </thead>\n",
       "  <tbody>\n",
       "    <tr>\n",
       "      <th>0</th>\n",
       "      <td>17850</td>\n",
       "      <td>5391.21</td>\n",
       "      <td>372.0</td>\n",
       "      <td>297.0</td>\n",
       "      <td>17.000000</td>\n",
       "      <td>40.0</td>\n",
       "      <td>4</td>\n",
       "    </tr>\n",
       "    <tr>\n",
       "      <th>1</th>\n",
       "      <td>13047</td>\n",
       "      <td>3237.54</td>\n",
       "      <td>31.0</td>\n",
       "      <td>172.0</td>\n",
       "      <td>0.029155</td>\n",
       "      <td>36.0</td>\n",
       "      <td>0</td>\n",
       "    </tr>\n",
       "    <tr>\n",
       "      <th>2</th>\n",
       "      <td>12583</td>\n",
       "      <td>7281.38</td>\n",
       "      <td>2.0</td>\n",
       "      <td>247.0</td>\n",
       "      <td>0.040323</td>\n",
       "      <td>51.0</td>\n",
       "      <td>3</td>\n",
       "    </tr>\n",
       "    <tr>\n",
       "      <th>3</th>\n",
       "      <td>13748</td>\n",
       "      <td>948.25</td>\n",
       "      <td>95.0</td>\n",
       "      <td>28.0</td>\n",
       "      <td>0.017921</td>\n",
       "      <td>0.0</td>\n",
       "      <td>1</td>\n",
       "    </tr>\n",
       "    <tr>\n",
       "      <th>4</th>\n",
       "      <td>15100</td>\n",
       "      <td>876.00</td>\n",
       "      <td>333.0</td>\n",
       "      <td>3.0</td>\n",
       "      <td>0.073171</td>\n",
       "      <td>22.0</td>\n",
       "      <td>4</td>\n",
       "    </tr>\n",
       "  </tbody>\n",
       "</table>\n",
       "</div>"
      ],
      "text/plain": [
       "   customer_id  gross_revenue  recency_days  qty_products  frequency  \\\n",
       "0        17850        5391.21         372.0         297.0  17.000000   \n",
       "1        13047        3237.54          31.0         172.0   0.029155   \n",
       "2        12583        7281.38           2.0         247.0   0.040323   \n",
       "3        13748         948.25          95.0          28.0   0.017921   \n",
       "4        15100         876.00         333.0           3.0   0.073171   \n",
       "\n",
       "   qty_returns  cluster  \n",
       "0         40.0        4  \n",
       "1         36.0        0  \n",
       "2         51.0        3  \n",
       "3          0.0        1  \n",
       "4         22.0        4  "
      ]
     },
     "execution_count": 108,
     "metadata": {},
     "output_type": "execute_result"
    }
   ],
   "source": [
    "df9_2 = df4[cols_selected].copy()\n",
    "df9_2['cluster'] = labels_kmeans\n",
    "df9_2.head()"
   ]
  },
  {
   "cell_type": "code",
   "execution_count": 109,
   "id": "e4f1de9e",
   "metadata": {
    "ExecuteTime": {
     "end_time": "2023-03-06T11:43:40.928734Z",
     "start_time": "2023-03-06T11:43:40.910737Z"
    }
   },
   "outputs": [
    {
     "data": {
      "text/plain": [
       "customer_id        int64\n",
       "gross_revenue    float64\n",
       "recency_days     float64\n",
       "qty_products     float64\n",
       "frequency        float64\n",
       "qty_returns      float64\n",
       "cluster            int32\n",
       "dtype: object"
      ]
     },
     "execution_count": 109,
     "metadata": {},
     "output_type": "execute_result"
    }
   ],
   "source": [
    "df9_2.dtypes"
   ]
  },
  {
   "cell_type": "code",
   "execution_count": 110,
   "id": "1a1cc806",
   "metadata": {
    "ExecuteTime": {
     "end_time": "2023-03-06T11:44:10.070324Z",
     "start_time": "2023-03-06T11:44:10.047344Z"
    }
   },
   "outputs": [],
   "source": [
    "df9_2['recency_days'] = df9_2['recency_days'].astype( 'int64' )\n",
    "df9_2['qty_products'] = df9_2['qty_products'].astype( 'int64' )\n",
    "df9_2['qty_returns'] = df9_2['qty_returns'].astype( 'int64' )\n",
    "df9_2['cluster'] = df9_2['cluster'].astype( 'int64' )"
   ]
  },
  {
   "cell_type": "code",
   "execution_count": 111,
   "id": "b37205f6",
   "metadata": {
    "ExecuteTime": {
     "end_time": "2023-03-06T11:44:15.730273Z",
     "start_time": "2023-03-06T11:44:15.687346Z"
    }
   },
   "outputs": [],
   "source": [
    "# Number of customers\n",
    "df_cluster = df9_2[['customer_id', 'cluster']].groupby('cluster').count().reset_index()\n",
    "df_cluster['perc_customer'] = ( df_cluster['customer_id'] / df_cluster['customer_id'].sum() ) * 100\n",
    "\n",
    "# Average Gross Revenue\n",
    "df_avg_gross_revenue = df9_2[['cluster', 'gross_revenue']].groupby('cluster').mean().reset_index()\n",
    "df_cluster = pd.merge( df_cluster, df_avg_gross_revenue, how= 'inner', on='cluster' )\n",
    "\n",
    "# Average Recency Days\n",
    "df_avg_recency = df9_2[['cluster', 'recency_days']].groupby('cluster').mean().reset_index()\n",
    "df_cluster = pd.merge( df_cluster, df_avg_recency, how='inner', on = 'cluster')\n",
    "\n",
    "# Average products\n",
    "df_products = df9_2[['cluster', 'qty_products']].groupby('cluster').mean().reset_index()\n",
    "df_cluster = pd.merge( df_cluster, df_products, how='inner', on = 'cluster')\n",
    "\n",
    "# Average Frequency\n",
    "df_frequency = df9_2[['cluster', 'frequency']].groupby('cluster').mean().reset_index()\n",
    "df_cluster = pd.merge( df_cluster, df_frequency, how='inner', on = 'cluster')\n",
    "\n",
    "# Average returns\n",
    "df_returns = df9_2[['cluster', 'qty_returns']].groupby('cluster').mean().reset_index()\n",
    "df_cluster = pd.merge( df_cluster, df_returns, how='inner', on = 'cluster')"
   ]
  },
  {
   "cell_type": "code",
   "execution_count": 112,
   "id": "3f9b196e",
   "metadata": {
    "ExecuteTime": {
     "end_time": "2023-03-06T11:44:17.244913Z",
     "start_time": "2023-03-06T11:44:17.221932Z"
    }
   },
   "outputs": [
    {
     "data": {
      "text/html": [
       "<div>\n",
       "<style scoped>\n",
       "    .dataframe tbody tr th:only-of-type {\n",
       "        vertical-align: middle;\n",
       "    }\n",
       "\n",
       "    .dataframe tbody tr th {\n",
       "        vertical-align: top;\n",
       "    }\n",
       "\n",
       "    .dataframe thead th {\n",
       "        text-align: right;\n",
       "    }\n",
       "</style>\n",
       "<table border=\"1\" class=\"dataframe\">\n",
       "  <thead>\n",
       "    <tr style=\"text-align: right;\">\n",
       "      <th></th>\n",
       "      <th>cluster</th>\n",
       "      <th>customer_id</th>\n",
       "      <th>perc_customer</th>\n",
       "      <th>gross_revenue</th>\n",
       "      <th>recency_days</th>\n",
       "      <th>qty_products</th>\n",
       "      <th>frequency</th>\n",
       "      <th>qty_returns</th>\n",
       "    </tr>\n",
       "  </thead>\n",
       "  <tbody>\n",
       "    <tr>\n",
       "      <th>3</th>\n",
       "      <td>3</td>\n",
       "      <td>1122</td>\n",
       "      <td>19.496090</td>\n",
       "      <td>4821.490463</td>\n",
       "      <td>8.362745</td>\n",
       "      <td>198.205882</td>\n",
       "      <td>0.310708</td>\n",
       "      <td>55.682709</td>\n",
       "    </tr>\n",
       "    <tr>\n",
       "      <th>0</th>\n",
       "      <td>0</td>\n",
       "      <td>1030</td>\n",
       "      <td>17.897480</td>\n",
       "      <td>1918.042126</td>\n",
       "      <td>29.118447</td>\n",
       "      <td>109.238835</td>\n",
       "      <td>0.032374</td>\n",
       "      <td>16.478641</td>\n",
       "    </tr>\n",
       "    <tr>\n",
       "      <th>1</th>\n",
       "      <td>1</td>\n",
       "      <td>670</td>\n",
       "      <td>11.642050</td>\n",
       "      <td>1331.070015</td>\n",
       "      <td>93.855224</td>\n",
       "      <td>68.586567</td>\n",
       "      <td>0.028801</td>\n",
       "      <td>10.307463</td>\n",
       "    </tr>\n",
       "    <tr>\n",
       "      <th>4</th>\n",
       "      <td>4</td>\n",
       "      <td>611</td>\n",
       "      <td>10.616855</td>\n",
       "      <td>1171.593993</td>\n",
       "      <td>302.397709</td>\n",
       "      <td>66.378069</td>\n",
       "      <td>0.634947</td>\n",
       "      <td>145.399345</td>\n",
       "    </tr>\n",
       "    <tr>\n",
       "      <th>6</th>\n",
       "      <td>6</td>\n",
       "      <td>631</td>\n",
       "      <td>10.964379</td>\n",
       "      <td>750.852076</td>\n",
       "      <td>102.321712</td>\n",
       "      <td>54.965135</td>\n",
       "      <td>1.015055</td>\n",
       "      <td>1.606973</td>\n",
       "    </tr>\n",
       "    <tr>\n",
       "      <th>7</th>\n",
       "      <td>7</td>\n",
       "      <td>481</td>\n",
       "      <td>8.357950</td>\n",
       "      <td>651.675696</td>\n",
       "      <td>59.166320</td>\n",
       "      <td>45.964657</td>\n",
       "      <td>1.063360</td>\n",
       "      <td>6.613306</td>\n",
       "    </tr>\n",
       "    <tr>\n",
       "      <th>5</th>\n",
       "      <td>5</td>\n",
       "      <td>493</td>\n",
       "      <td>8.566464</td>\n",
       "      <td>625.523327</td>\n",
       "      <td>194.070994</td>\n",
       "      <td>41.127789</td>\n",
       "      <td>1.020284</td>\n",
       "      <td>4.766734</td>\n",
       "    </tr>\n",
       "    <tr>\n",
       "      <th>2</th>\n",
       "      <td>2</td>\n",
       "      <td>717</td>\n",
       "      <td>12.458732</td>\n",
       "      <td>562.871409</td>\n",
       "      <td>276.368201</td>\n",
       "      <td>43.389121</td>\n",
       "      <td>1.014877</td>\n",
       "      <td>1.059972</td>\n",
       "    </tr>\n",
       "  </tbody>\n",
       "</table>\n",
       "</div>"
      ],
      "text/plain": [
       "   cluster  customer_id  perc_customer  gross_revenue  recency_days  \\\n",
       "3        3         1122      19.496090    4821.490463      8.362745   \n",
       "0        0         1030      17.897480    1918.042126     29.118447   \n",
       "1        1          670      11.642050    1331.070015     93.855224   \n",
       "4        4          611      10.616855    1171.593993    302.397709   \n",
       "6        6          631      10.964379     750.852076    102.321712   \n",
       "7        7          481       8.357950     651.675696     59.166320   \n",
       "5        5          493       8.566464     625.523327    194.070994   \n",
       "2        2          717      12.458732     562.871409    276.368201   \n",
       "\n",
       "   qty_products  frequency  qty_returns  \n",
       "3    198.205882   0.310708    55.682709  \n",
       "0    109.238835   0.032374    16.478641  \n",
       "1     68.586567   0.028801    10.307463  \n",
       "4     66.378069   0.634947   145.399345  \n",
       "6     54.965135   1.015055     1.606973  \n",
       "7     45.964657   1.063360     6.613306  \n",
       "5     41.127789   1.020284     4.766734  \n",
       "2     43.389121   1.014877     1.059972  "
      ]
     },
     "execution_count": 112,
     "metadata": {},
     "output_type": "execute_result"
    }
   ],
   "source": [
    "df_cluster.sort_values( 'gross_revenue', ascending= False)"
   ]
  },
  {
   "cell_type": "markdown",
   "id": "d1533b3f",
   "metadata": {},
   "source": [
    "# 11.0. DEPLOY TO PRODUCTION"
   ]
  },
  {
   "cell_type": "markdown",
   "id": "9960dc0f",
   "metadata": {},
   "source": [
    "## 11.1. Insert into SQLite"
   ]
  },
  {
   "cell_type": "code",
   "execution_count": 113,
   "id": "da4bf42c",
   "metadata": {
    "ExecuteTime": {
     "end_time": "2023-03-06T11:44:38.475056Z",
     "start_time": "2023-03-06T11:44:38.454111Z"
    }
   },
   "outputs": [
    {
     "data": {
      "text/plain": [
       "customer_id        int64\n",
       "gross_revenue    float64\n",
       "recency_days       int64\n",
       "qty_products       int64\n",
       "frequency        float64\n",
       "qty_returns        int64\n",
       "cluster            int64\n",
       "dtype: object"
      ]
     },
     "execution_count": 113,
     "metadata": {},
     "output_type": "execute_result"
    }
   ],
   "source": [
    "df9_2.dtypes"
   ]
  },
  {
   "cell_type": "code",
   "execution_count": 115,
   "id": "28b06f7a",
   "metadata": {
    "ExecuteTime": {
     "end_time": "2023-03-06T11:49:09.478264Z",
     "start_time": "2023-03-06T11:49:08.118900Z"
    }
   },
   "outputs": [
    {
     "name": "stderr",
     "output_type": "stream",
     "text": [
      "C:\\Users\\samue\\AppData\\Local\\Temp\\ipykernel_7088\\3477800335.py:9: RemovedIn20Warning: Deprecated API features detected! These feature(s) are not compatible with SQLAlchemy 2.0. To prevent incompatible upgrades prior to updating applications, ensure requirements files are pinned to \"sqlalchemy<2.0\". Set environment variable SQLALCHEMY_WARN_20=1 to show all deprecation warnings.  Set environment variable SQLALCHEMY_SILENCE_UBER_WARNING=1 to silence this message. (Background on SQLAlchemy 2.0 at: https://sqlalche.me/e/b8d9)\n",
      "  conn.execute( query_drop_insiders )\n"
     ]
    },
    {
     "ename": "OperationalError",
     "evalue": "(sqlite3.OperationalError) no such table: insiders\n[SQL: \n    DROP TABLE insiders\n]\n(Background on this error at: https://sqlalche.me/e/14/e3q8)",
     "output_type": "error",
     "traceback": [
      "\u001b[1;31m---------------------------------------------------------------------------\u001b[0m",
      "\u001b[1;31mOperationalError\u001b[0m                          Traceback (most recent call last)",
      "File \u001b[1;32m~\\anaconda3\\envs\\ds_clusterizacao\\lib\\site-packages\\sqlalchemy\\engine\\base.py:1900\u001b[0m, in \u001b[0;36mConnection._execute_context\u001b[1;34m(self, dialect, constructor, statement, parameters, execution_options, *args, **kw)\u001b[0m\n\u001b[0;32m   1899\u001b[0m     \u001b[38;5;28;01mif\u001b[39;00m \u001b[38;5;129;01mnot\u001b[39;00m evt_handled:\n\u001b[1;32m-> 1900\u001b[0m         \u001b[38;5;28;43mself\u001b[39;49m\u001b[38;5;241;43m.\u001b[39;49m\u001b[43mdialect\u001b[49m\u001b[38;5;241;43m.\u001b[39;49m\u001b[43mdo_execute\u001b[49m\u001b[43m(\u001b[49m\n\u001b[0;32m   1901\u001b[0m \u001b[43m            \u001b[49m\u001b[43mcursor\u001b[49m\u001b[43m,\u001b[49m\u001b[43m \u001b[49m\u001b[43mstatement\u001b[49m\u001b[43m,\u001b[49m\u001b[43m \u001b[49m\u001b[43mparameters\u001b[49m\u001b[43m,\u001b[49m\u001b[43m \u001b[49m\u001b[43mcontext\u001b[49m\n\u001b[0;32m   1902\u001b[0m \u001b[43m        \u001b[49m\u001b[43m)\u001b[49m\n\u001b[0;32m   1904\u001b[0m \u001b[38;5;28;01mif\u001b[39;00m \u001b[38;5;28mself\u001b[39m\u001b[38;5;241m.\u001b[39m_has_events \u001b[38;5;129;01mor\u001b[39;00m \u001b[38;5;28mself\u001b[39m\u001b[38;5;241m.\u001b[39mengine\u001b[38;5;241m.\u001b[39m_has_events:\n",
      "File \u001b[1;32m~\\anaconda3\\envs\\ds_clusterizacao\\lib\\site-packages\\sqlalchemy\\engine\\default.py:736\u001b[0m, in \u001b[0;36mDefaultDialect.do_execute\u001b[1;34m(self, cursor, statement, parameters, context)\u001b[0m\n\u001b[0;32m    735\u001b[0m \u001b[38;5;28;01mdef\u001b[39;00m \u001b[38;5;21mdo_execute\u001b[39m(\u001b[38;5;28mself\u001b[39m, cursor, statement, parameters, context\u001b[38;5;241m=\u001b[39m\u001b[38;5;28;01mNone\u001b[39;00m):\n\u001b[1;32m--> 736\u001b[0m     \u001b[43mcursor\u001b[49m\u001b[38;5;241;43m.\u001b[39;49m\u001b[43mexecute\u001b[49m\u001b[43m(\u001b[49m\u001b[43mstatement\u001b[49m\u001b[43m,\u001b[49m\u001b[43m \u001b[49m\u001b[43mparameters\u001b[49m\u001b[43m)\u001b[49m\n",
      "\u001b[1;31mOperationalError\u001b[0m: no such table: insiders",
      "\nThe above exception was the direct cause of the following exception:\n",
      "\u001b[1;31mOperationalError\u001b[0m                          Traceback (most recent call last)",
      "Input \u001b[1;32mIn [115]\u001b[0m, in \u001b[0;36m<cell line: 9>\u001b[1;34m()\u001b[0m\n\u001b[0;32m      4\u001b[0m \u001b[38;5;66;03m# drop table\u001b[39;00m\n\u001b[0;32m      5\u001b[0m query_drop_insiders \u001b[38;5;241m=\u001b[39m \u001b[38;5;124m\"\"\"\u001b[39m\n\u001b[0;32m      6\u001b[0m \u001b[38;5;124m    DROP TABLE insiders\u001b[39m\n\u001b[0;32m      7\u001b[0m \u001b[38;5;124m\"\"\"\u001b[39m\n\u001b[1;32m----> 9\u001b[0m \u001b[43mconn\u001b[49m\u001b[38;5;241;43m.\u001b[39;49m\u001b[43mexecute\u001b[49m\u001b[43m(\u001b[49m\u001b[43m \u001b[49m\u001b[43mquery_drop_insiders\u001b[49m\u001b[43m \u001b[49m\u001b[43m)\u001b[49m\n",
      "File \u001b[1;32m<string>:2\u001b[0m, in \u001b[0;36mexecute\u001b[1;34m(self, statement, *multiparams, **params)\u001b[0m\n",
      "File \u001b[1;32m~\\anaconda3\\envs\\ds_clusterizacao\\lib\\site-packages\\sqlalchemy\\util\\deprecations.py:468\u001b[0m, in \u001b[0;36m_decorate_with_warning.<locals>.warned\u001b[1;34m(fn, *args, **kwargs)\u001b[0m\n\u001b[0;32m    466\u001b[0m \u001b[38;5;28;01mif\u001b[39;00m \u001b[38;5;129;01mnot\u001b[39;00m skip_warning:\n\u001b[0;32m    467\u001b[0m     _warn_with_version(message, version, wtype, stacklevel\u001b[38;5;241m=\u001b[39m\u001b[38;5;241m3\u001b[39m)\n\u001b[1;32m--> 468\u001b[0m \u001b[38;5;28;01mreturn\u001b[39;00m fn(\u001b[38;5;241m*\u001b[39margs, \u001b[38;5;241m*\u001b[39m\u001b[38;5;241m*\u001b[39mkwargs)\n",
      "File \u001b[1;32m~\\anaconda3\\envs\\ds_clusterizacao\\lib\\site-packages\\sqlalchemy\\engine\\base.py:3257\u001b[0m, in \u001b[0;36mEngine.execute\u001b[1;34m(self, statement, *multiparams, **params)\u001b[0m\n\u001b[0;32m   3239\u001b[0m \u001b[38;5;124;03m\"\"\"Executes the given construct and returns a\u001b[39;00m\n\u001b[0;32m   3240\u001b[0m \u001b[38;5;124;03m:class:`_engine.CursorResult`.\u001b[39;00m\n\u001b[0;32m   3241\u001b[0m \n\u001b[1;32m   (...)\u001b[0m\n\u001b[0;32m   3254\u001b[0m \n\u001b[0;32m   3255\u001b[0m \u001b[38;5;124;03m\"\"\"\u001b[39;00m\n\u001b[0;32m   3256\u001b[0m connection \u001b[38;5;241m=\u001b[39m \u001b[38;5;28mself\u001b[39m\u001b[38;5;241m.\u001b[39mconnect(close_with_result\u001b[38;5;241m=\u001b[39m\u001b[38;5;28;01mTrue\u001b[39;00m)\n\u001b[1;32m-> 3257\u001b[0m \u001b[38;5;28;01mreturn\u001b[39;00m connection\u001b[38;5;241m.\u001b[39mexecute(statement, \u001b[38;5;241m*\u001b[39mmultiparams, \u001b[38;5;241m*\u001b[39m\u001b[38;5;241m*\u001b[39mparams)\n",
      "File \u001b[1;32m~\\anaconda3\\envs\\ds_clusterizacao\\lib\\site-packages\\sqlalchemy\\engine\\base.py:1365\u001b[0m, in \u001b[0;36mConnection.execute\u001b[1;34m(self, statement, *multiparams, **params)\u001b[0m\n\u001b[0;32m   1356\u001b[0m \u001b[38;5;28;01mif\u001b[39;00m \u001b[38;5;28misinstance\u001b[39m(statement, util\u001b[38;5;241m.\u001b[39mstring_types):\n\u001b[0;32m   1357\u001b[0m     util\u001b[38;5;241m.\u001b[39mwarn_deprecated_20(\n\u001b[0;32m   1358\u001b[0m         \u001b[38;5;124m\"\u001b[39m\u001b[38;5;124mPassing a string to Connection.execute() is \u001b[39m\u001b[38;5;124m\"\u001b[39m\n\u001b[0;32m   1359\u001b[0m         \u001b[38;5;124m\"\u001b[39m\u001b[38;5;124mdeprecated and will be removed in version 2.0.  Use the \u001b[39m\u001b[38;5;124m\"\u001b[39m\n\u001b[1;32m   (...)\u001b[0m\n\u001b[0;32m   1362\u001b[0m         \u001b[38;5;124m\"\u001b[39m\u001b[38;5;124mdriver-level SQL string.\u001b[39m\u001b[38;5;124m\"\u001b[39m\n\u001b[0;32m   1363\u001b[0m     )\n\u001b[1;32m-> 1365\u001b[0m     \u001b[38;5;28;01mreturn\u001b[39;00m \u001b[38;5;28;43mself\u001b[39;49m\u001b[38;5;241;43m.\u001b[39;49m\u001b[43m_exec_driver_sql\u001b[49m\u001b[43m(\u001b[49m\n\u001b[0;32m   1366\u001b[0m \u001b[43m        \u001b[49m\u001b[43mstatement\u001b[49m\u001b[43m,\u001b[49m\n\u001b[0;32m   1367\u001b[0m \u001b[43m        \u001b[49m\u001b[43mmultiparams\u001b[49m\u001b[43m,\u001b[49m\n\u001b[0;32m   1368\u001b[0m \u001b[43m        \u001b[49m\u001b[43mparams\u001b[49m\u001b[43m,\u001b[49m\n\u001b[0;32m   1369\u001b[0m \u001b[43m        \u001b[49m\u001b[43m_EMPTY_EXECUTION_OPTS\u001b[49m\u001b[43m,\u001b[49m\n\u001b[0;32m   1370\u001b[0m \u001b[43m        \u001b[49m\u001b[43mfuture\u001b[49m\u001b[38;5;241;43m=\u001b[39;49m\u001b[38;5;28;43;01mFalse\u001b[39;49;00m\u001b[43m,\u001b[49m\n\u001b[0;32m   1371\u001b[0m \u001b[43m    \u001b[49m\u001b[43m)\u001b[49m\n\u001b[0;32m   1373\u001b[0m \u001b[38;5;28;01mtry\u001b[39;00m:\n\u001b[0;32m   1374\u001b[0m     meth \u001b[38;5;241m=\u001b[39m statement\u001b[38;5;241m.\u001b[39m_execute_on_connection\n",
      "File \u001b[1;32m~\\anaconda3\\envs\\ds_clusterizacao\\lib\\site-packages\\sqlalchemy\\engine\\base.py:1669\u001b[0m, in \u001b[0;36mConnection._exec_driver_sql\u001b[1;34m(self, statement, multiparams, params, execution_options, future)\u001b[0m\n\u001b[0;32m   1659\u001b[0m         (\n\u001b[0;32m   1660\u001b[0m             statement,\n\u001b[0;32m   1661\u001b[0m             distilled_params,\n\u001b[1;32m   (...)\u001b[0m\n\u001b[0;32m   1665\u001b[0m             statement, distilled_parameters, execution_options\n\u001b[0;32m   1666\u001b[0m         )\n\u001b[0;32m   1668\u001b[0m dialect \u001b[38;5;241m=\u001b[39m \u001b[38;5;28mself\u001b[39m\u001b[38;5;241m.\u001b[39mdialect\n\u001b[1;32m-> 1669\u001b[0m ret \u001b[38;5;241m=\u001b[39m \u001b[38;5;28;43mself\u001b[39;49m\u001b[38;5;241;43m.\u001b[39;49m\u001b[43m_execute_context\u001b[49m\u001b[43m(\u001b[49m\n\u001b[0;32m   1670\u001b[0m \u001b[43m    \u001b[49m\u001b[43mdialect\u001b[49m\u001b[43m,\u001b[49m\n\u001b[0;32m   1671\u001b[0m \u001b[43m    \u001b[49m\u001b[43mdialect\u001b[49m\u001b[38;5;241;43m.\u001b[39;49m\u001b[43mexecution_ctx_cls\u001b[49m\u001b[38;5;241;43m.\u001b[39;49m\u001b[43m_init_statement\u001b[49m\u001b[43m,\u001b[49m\n\u001b[0;32m   1672\u001b[0m \u001b[43m    \u001b[49m\u001b[43mstatement\u001b[49m\u001b[43m,\u001b[49m\n\u001b[0;32m   1673\u001b[0m \u001b[43m    \u001b[49m\u001b[43mdistilled_parameters\u001b[49m\u001b[43m,\u001b[49m\n\u001b[0;32m   1674\u001b[0m \u001b[43m    \u001b[49m\u001b[43mexecution_options\u001b[49m\u001b[43m,\u001b[49m\n\u001b[0;32m   1675\u001b[0m \u001b[43m    \u001b[49m\u001b[43mstatement\u001b[49m\u001b[43m,\u001b[49m\n\u001b[0;32m   1676\u001b[0m \u001b[43m    \u001b[49m\u001b[43mdistilled_parameters\u001b[49m\u001b[43m,\u001b[49m\n\u001b[0;32m   1677\u001b[0m \u001b[43m\u001b[49m\u001b[43m)\u001b[49m\n\u001b[0;32m   1679\u001b[0m \u001b[38;5;28;01mif\u001b[39;00m \u001b[38;5;129;01mnot\u001b[39;00m future:\n\u001b[0;32m   1680\u001b[0m     \u001b[38;5;28;01mif\u001b[39;00m \u001b[38;5;28mself\u001b[39m\u001b[38;5;241m.\u001b[39m_has_events \u001b[38;5;129;01mor\u001b[39;00m \u001b[38;5;28mself\u001b[39m\u001b[38;5;241m.\u001b[39mengine\u001b[38;5;241m.\u001b[39m_has_events:\n",
      "File \u001b[1;32m~\\anaconda3\\envs\\ds_clusterizacao\\lib\\site-packages\\sqlalchemy\\engine\\base.py:1943\u001b[0m, in \u001b[0;36mConnection._execute_context\u001b[1;34m(self, dialect, constructor, statement, parameters, execution_options, *args, **kw)\u001b[0m\n\u001b[0;32m   1940\u001b[0m             branched\u001b[38;5;241m.\u001b[39mclose()\n\u001b[0;32m   1942\u001b[0m \u001b[38;5;28;01mexcept\u001b[39;00m \u001b[38;5;167;01mBaseException\u001b[39;00m \u001b[38;5;28;01mas\u001b[39;00m e:\n\u001b[1;32m-> 1943\u001b[0m     \u001b[38;5;28;43mself\u001b[39;49m\u001b[38;5;241;43m.\u001b[39;49m\u001b[43m_handle_dbapi_exception\u001b[49m\u001b[43m(\u001b[49m\n\u001b[0;32m   1944\u001b[0m \u001b[43m        \u001b[49m\u001b[43me\u001b[49m\u001b[43m,\u001b[49m\u001b[43m \u001b[49m\u001b[43mstatement\u001b[49m\u001b[43m,\u001b[49m\u001b[43m \u001b[49m\u001b[43mparameters\u001b[49m\u001b[43m,\u001b[49m\u001b[43m \u001b[49m\u001b[43mcursor\u001b[49m\u001b[43m,\u001b[49m\u001b[43m \u001b[49m\u001b[43mcontext\u001b[49m\n\u001b[0;32m   1945\u001b[0m \u001b[43m    \u001b[49m\u001b[43m)\u001b[49m\n\u001b[0;32m   1947\u001b[0m \u001b[38;5;28;01mreturn\u001b[39;00m result\n",
      "File \u001b[1;32m~\\anaconda3\\envs\\ds_clusterizacao\\lib\\site-packages\\sqlalchemy\\engine\\base.py:2124\u001b[0m, in \u001b[0;36mConnection._handle_dbapi_exception\u001b[1;34m(self, e, statement, parameters, cursor, context)\u001b[0m\n\u001b[0;32m   2122\u001b[0m     util\u001b[38;5;241m.\u001b[39mraise_(newraise, with_traceback\u001b[38;5;241m=\u001b[39mexc_info[\u001b[38;5;241m2\u001b[39m], from_\u001b[38;5;241m=\u001b[39me)\n\u001b[0;32m   2123\u001b[0m \u001b[38;5;28;01melif\u001b[39;00m should_wrap:\n\u001b[1;32m-> 2124\u001b[0m     \u001b[43mutil\u001b[49m\u001b[38;5;241;43m.\u001b[39;49m\u001b[43mraise_\u001b[49m\u001b[43m(\u001b[49m\n\u001b[0;32m   2125\u001b[0m \u001b[43m        \u001b[49m\u001b[43msqlalchemy_exception\u001b[49m\u001b[43m,\u001b[49m\u001b[43m \u001b[49m\u001b[43mwith_traceback\u001b[49m\u001b[38;5;241;43m=\u001b[39;49m\u001b[43mexc_info\u001b[49m\u001b[43m[\u001b[49m\u001b[38;5;241;43m2\u001b[39;49m\u001b[43m]\u001b[49m\u001b[43m,\u001b[49m\u001b[43m \u001b[49m\u001b[43mfrom_\u001b[49m\u001b[38;5;241;43m=\u001b[39;49m\u001b[43me\u001b[49m\n\u001b[0;32m   2126\u001b[0m \u001b[43m    \u001b[49m\u001b[43m)\u001b[49m\n\u001b[0;32m   2127\u001b[0m \u001b[38;5;28;01melse\u001b[39;00m:\n\u001b[0;32m   2128\u001b[0m     util\u001b[38;5;241m.\u001b[39mraise_(exc_info[\u001b[38;5;241m1\u001b[39m], with_traceback\u001b[38;5;241m=\u001b[39mexc_info[\u001b[38;5;241m2\u001b[39m])\n",
      "File \u001b[1;32m~\\anaconda3\\envs\\ds_clusterizacao\\lib\\site-packages\\sqlalchemy\\util\\compat.py:211\u001b[0m, in \u001b[0;36mraise_\u001b[1;34m(***failed resolving arguments***)\u001b[0m\n\u001b[0;32m    208\u001b[0m     exception\u001b[38;5;241m.\u001b[39m__cause__ \u001b[38;5;241m=\u001b[39m replace_context\n\u001b[0;32m    210\u001b[0m \u001b[38;5;28;01mtry\u001b[39;00m:\n\u001b[1;32m--> 211\u001b[0m     \u001b[38;5;28;01mraise\u001b[39;00m exception\n\u001b[0;32m    212\u001b[0m \u001b[38;5;28;01mfinally\u001b[39;00m:\n\u001b[0;32m    213\u001b[0m     \u001b[38;5;66;03m# credit to\u001b[39;00m\n\u001b[0;32m    214\u001b[0m     \u001b[38;5;66;03m# https://cosmicpercolator.com/2016/01/13/exception-leaks-in-python-2-and-3/\u001b[39;00m\n\u001b[0;32m    215\u001b[0m     \u001b[38;5;66;03m# as the __traceback__ object creates a cycle\u001b[39;00m\n\u001b[0;32m    216\u001b[0m     \u001b[38;5;28;01mdel\u001b[39;00m exception, replace_context, from_, with_traceback\n",
      "File \u001b[1;32m~\\anaconda3\\envs\\ds_clusterizacao\\lib\\site-packages\\sqlalchemy\\engine\\base.py:1900\u001b[0m, in \u001b[0;36mConnection._execute_context\u001b[1;34m(self, dialect, constructor, statement, parameters, execution_options, *args, **kw)\u001b[0m\n\u001b[0;32m   1898\u001b[0m                 \u001b[38;5;28;01mbreak\u001b[39;00m\n\u001b[0;32m   1899\u001b[0m     \u001b[38;5;28;01mif\u001b[39;00m \u001b[38;5;129;01mnot\u001b[39;00m evt_handled:\n\u001b[1;32m-> 1900\u001b[0m         \u001b[38;5;28;43mself\u001b[39;49m\u001b[38;5;241;43m.\u001b[39;49m\u001b[43mdialect\u001b[49m\u001b[38;5;241;43m.\u001b[39;49m\u001b[43mdo_execute\u001b[49m\u001b[43m(\u001b[49m\n\u001b[0;32m   1901\u001b[0m \u001b[43m            \u001b[49m\u001b[43mcursor\u001b[49m\u001b[43m,\u001b[49m\u001b[43m \u001b[49m\u001b[43mstatement\u001b[49m\u001b[43m,\u001b[49m\u001b[43m \u001b[49m\u001b[43mparameters\u001b[49m\u001b[43m,\u001b[49m\u001b[43m \u001b[49m\u001b[43mcontext\u001b[49m\n\u001b[0;32m   1902\u001b[0m \u001b[43m        \u001b[49m\u001b[43m)\u001b[49m\n\u001b[0;32m   1904\u001b[0m \u001b[38;5;28;01mif\u001b[39;00m \u001b[38;5;28mself\u001b[39m\u001b[38;5;241m.\u001b[39m_has_events \u001b[38;5;129;01mor\u001b[39;00m \u001b[38;5;28mself\u001b[39m\u001b[38;5;241m.\u001b[39mengine\u001b[38;5;241m.\u001b[39m_has_events:\n\u001b[0;32m   1905\u001b[0m     \u001b[38;5;28mself\u001b[39m\u001b[38;5;241m.\u001b[39mdispatch\u001b[38;5;241m.\u001b[39mafter_cursor_execute(\n\u001b[0;32m   1906\u001b[0m         \u001b[38;5;28mself\u001b[39m,\n\u001b[0;32m   1907\u001b[0m         cursor,\n\u001b[1;32m   (...)\u001b[0m\n\u001b[0;32m   1911\u001b[0m         context\u001b[38;5;241m.\u001b[39mexecutemany,\n\u001b[0;32m   1912\u001b[0m     )\n",
      "File \u001b[1;32m~\\anaconda3\\envs\\ds_clusterizacao\\lib\\site-packages\\sqlalchemy\\engine\\default.py:736\u001b[0m, in \u001b[0;36mDefaultDialect.do_execute\u001b[1;34m(self, cursor, statement, parameters, context)\u001b[0m\n\u001b[0;32m    735\u001b[0m \u001b[38;5;28;01mdef\u001b[39;00m \u001b[38;5;21mdo_execute\u001b[39m(\u001b[38;5;28mself\u001b[39m, cursor, statement, parameters, context\u001b[38;5;241m=\u001b[39m\u001b[38;5;28;01mNone\u001b[39;00m):\n\u001b[1;32m--> 736\u001b[0m     \u001b[43mcursor\u001b[49m\u001b[38;5;241;43m.\u001b[39;49m\u001b[43mexecute\u001b[49m\u001b[43m(\u001b[49m\u001b[43mstatement\u001b[49m\u001b[43m,\u001b[49m\u001b[43m \u001b[49m\u001b[43mparameters\u001b[49m\u001b[43m)\u001b[49m\n",
      "\u001b[1;31mOperationalError\u001b[0m: (sqlite3.OperationalError) no such table: insiders\n[SQL: \n    DROP TABLE insiders\n]\n(Background on this error at: https://sqlalche.me/e/14/e3q8)"
     ]
    }
   ],
   "source": [
    "# # connect database\n",
    "# conn = create_engine( 'sqlite:///insiders_db.sqlite', echo= False )\n",
    "\n",
    "# # drop table\n",
    "# query_drop_insiders = \"\"\"\n",
    "#     DROP TABLE insiders\n",
    "# \"\"\"\n",
    "\n",
    "# conn.execute( query_drop_insiders )"
   ]
  },
  {
   "cell_type": "code",
   "execution_count": 116,
   "id": "94904836",
   "metadata": {
    "ExecuteTime": {
     "end_time": "2023-03-06T11:50:33.757630Z",
     "start_time": "2023-03-06T11:50:33.711083Z"
    }
   },
   "outputs": [
    {
     "data": {
      "text/plain": [
       "<sqlalchemy.engine.cursor.LegacyCursorResult at 0x2a0ed050a90>"
      ]
     },
     "execution_count": 116,
     "metadata": {},
     "output_type": "execute_result"
    }
   ],
   "source": [
    "# connect database\n",
    "conn = create_engine( 'sqlite:///insiders_db.sqlite', echo= False )\n",
    "\n",
    "# create table\n",
    "query_create_table_insiders = \"\"\"\n",
    "    CREATE TABLE insiders (\n",
    "        customer_id    INTEGER,\n",
    "        gross_revenue  REAL,\n",
    "        recency_days   INTEGER,\n",
    "        qty_products   INTEGER,\n",
    "        frequency      REAL,\n",
    "        qty_returns    INTEGER,\n",
    "        cluster        INTEGER )\n",
    "\"\"\"\n",
    "\n",
    "conn.execute( query_create_table_insiders )"
   ]
  },
  {
   "cell_type": "code",
   "execution_count": 117,
   "id": "f5aae040",
   "metadata": {
    "ExecuteTime": {
     "end_time": "2023-03-06T11:50:53.971887Z",
     "start_time": "2023-03-06T11:50:53.879131Z"
    }
   },
   "outputs": [
    {
     "data": {
      "text/plain": [
       "5755"
      ]
     },
     "execution_count": 117,
     "metadata": {},
     "output_type": "execute_result"
    }
   ],
   "source": [
    "# insert table\n",
    "df9_2.to_sql( 'insiders', con= conn, if_exists= 'append', index= False )"
   ]
  },
  {
   "cell_type": "code",
   "execution_count": 118,
   "id": "0646b199",
   "metadata": {
    "ExecuteTime": {
     "end_time": "2023-03-06T11:52:00.981190Z",
     "start_time": "2023-03-06T11:52:00.725870Z"
    }
   },
   "outputs": [
    {
     "data": {
      "text/html": [
       "<div>\n",
       "<style scoped>\n",
       "    .dataframe tbody tr th:only-of-type {\n",
       "        vertical-align: middle;\n",
       "    }\n",
       "\n",
       "    .dataframe tbody tr th {\n",
       "        vertical-align: top;\n",
       "    }\n",
       "\n",
       "    .dataframe thead th {\n",
       "        text-align: right;\n",
       "    }\n",
       "</style>\n",
       "<table border=\"1\" class=\"dataframe\">\n",
       "  <thead>\n",
       "    <tr style=\"text-align: right;\">\n",
       "      <th></th>\n",
       "      <th>customer_id</th>\n",
       "      <th>gross_revenue</th>\n",
       "      <th>recency_days</th>\n",
       "      <th>qty_products</th>\n",
       "      <th>frequency</th>\n",
       "      <th>qty_returns</th>\n",
       "      <th>cluster</th>\n",
       "    </tr>\n",
       "  </thead>\n",
       "  <tbody>\n",
       "    <tr>\n",
       "      <th>0</th>\n",
       "      <td>17850</td>\n",
       "      <td>5391.21</td>\n",
       "      <td>372</td>\n",
       "      <td>297</td>\n",
       "      <td>17.000000</td>\n",
       "      <td>40</td>\n",
       "      <td>4</td>\n",
       "    </tr>\n",
       "    <tr>\n",
       "      <th>1</th>\n",
       "      <td>13047</td>\n",
       "      <td>3237.54</td>\n",
       "      <td>31</td>\n",
       "      <td>172</td>\n",
       "      <td>0.029155</td>\n",
       "      <td>36</td>\n",
       "      <td>0</td>\n",
       "    </tr>\n",
       "    <tr>\n",
       "      <th>2</th>\n",
       "      <td>12583</td>\n",
       "      <td>7281.38</td>\n",
       "      <td>2</td>\n",
       "      <td>247</td>\n",
       "      <td>0.040323</td>\n",
       "      <td>51</td>\n",
       "      <td>3</td>\n",
       "    </tr>\n",
       "    <tr>\n",
       "      <th>3</th>\n",
       "      <td>13748</td>\n",
       "      <td>948.25</td>\n",
       "      <td>95</td>\n",
       "      <td>28</td>\n",
       "      <td>0.017921</td>\n",
       "      <td>0</td>\n",
       "      <td>1</td>\n",
       "    </tr>\n",
       "    <tr>\n",
       "      <th>4</th>\n",
       "      <td>15100</td>\n",
       "      <td>876.00</td>\n",
       "      <td>333</td>\n",
       "      <td>3</td>\n",
       "      <td>0.073171</td>\n",
       "      <td>22</td>\n",
       "      <td>4</td>\n",
       "    </tr>\n",
       "  </tbody>\n",
       "</table>\n",
       "</div>"
      ],
      "text/plain": [
       "   customer_id  gross_revenue  recency_days  qty_products  frequency  \\\n",
       "0        17850        5391.21           372           297  17.000000   \n",
       "1        13047        3237.54            31           172   0.029155   \n",
       "2        12583        7281.38             2           247   0.040323   \n",
       "3        13748         948.25            95            28   0.017921   \n",
       "4        15100         876.00           333             3   0.073171   \n",
       "\n",
       "   qty_returns  cluster  \n",
       "0           40        4  \n",
       "1           36        0  \n",
       "2           51        3  \n",
       "3            0        1  \n",
       "4           22        4  "
      ]
     },
     "execution_count": 118,
     "metadata": {},
     "output_type": "execute_result"
    }
   ],
   "source": [
    "# # get query\n",
    "# query_collect = \"\"\"\n",
    "#     SELECT *\n",
    "#     FROM insiders\n",
    "# \"\"\"\n",
    "\n",
    "# df = pd.read_sql_query( query_collect, conn )\n",
    "# df.head()"
   ]
  },
  {
   "cell_type": "code",
   "execution_count": null,
   "id": "2840896c",
   "metadata": {},
   "outputs": [],
   "source": []
  }
 ],
 "metadata": {
  "kernelspec": {
   "display_name": "Python 3 (ipykernel)",
   "language": "python",
   "name": "python3"
  },
  "language_info": {
   "codemirror_mode": {
    "name": "ipython",
    "version": 3
   },
   "file_extension": ".py",
   "mimetype": "text/x-python",
   "name": "python",
   "nbconvert_exporter": "python",
   "pygments_lexer": "ipython3",
   "version": "3.9.13"
  }
 },
 "nbformat": 4,
 "nbformat_minor": 5
}
